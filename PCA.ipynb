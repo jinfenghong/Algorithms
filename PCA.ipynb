{
 "cells": [
  {
   "cell_type": "markdown",
   "metadata": {},
   "source": [
    "# 论如何做到：将特征向量按照特征值从大到小排列"
   ]
  },
  {
   "cell_type": "code",
   "execution_count": 29,
   "metadata": {},
   "outputs": [],
   "source": [
    "import numpy as np\n",
    "m = np.array([[1, 0.505, 0.569, 0.602, 0.621, 0.603],\n",
    "[0.505, 1, 0.422, 0.467, 0.482, 0.45],\n",
    "[0.569, 0.422, 1, 0.926, 0.877, 0.878],\n",
    "[0.602, 0.467, 0.926, 1, 0.874, 0.894],\n",
    "[0.621, 0.482, 0.877, 0.874, 1, 0.937],\n",
    "[0.603, 0.45, 0.878, 0.894, 0.937, 1]])"
   ]
  },
  {
   "cell_type": "code",
   "execution_count": 30,
   "metadata": {},
   "outputs": [],
   "source": [
    "evalue, evector = np.linalg.eig(m)"
   ]
  },
  {
   "cell_type": "code",
   "execution_count": 31,
   "metadata": {},
   "outputs": [
    {
     "data": {
      "text/plain": [
       "array([4.4564485 , 0.78240991, 0.45842506, 0.16883257, 0.05479622,\n",
       "       0.07908774])"
      ]
     },
     "execution_count": 31,
     "metadata": {},
     "output_type": "execute_result"
    }
   ],
   "source": [
    "evalue"
   ]
  },
  {
   "cell_type": "code",
   "execution_count": 32,
   "metadata": {},
   "outputs": [
    {
     "data": {
      "text/plain": [
       "array([[ 0.35079327,  0.39565321,  0.84666989,  0.05182494,  0.02561535,\n",
       "        -0.01451715],\n",
       "       [ 0.28620397,  0.81464058, -0.50202982,  0.02010032,  0.04236155,\n",
       "        -0.01468155],\n",
       "       [ 0.43997836, -0.26324462, -0.11051604,  0.50466755,  0.33278818,\n",
       "        -0.59955835],\n",
       "       [ 0.44688514, -0.19720294, -0.09896293,  0.47037458, -0.41567414,\n",
       "         0.59797472],\n",
       "       [ 0.44888063, -0.16146667, -0.06586761, -0.54823826, -0.5758624 ,\n",
       "        -0.36866442],\n",
       "       [ 0.44749331, -0.21345033, -0.0690664 , -0.46947138,  0.61838409,\n",
       "         0.38290503]])"
      ]
     },
     "execution_count": 32,
     "metadata": {},
     "output_type": "execute_result"
    }
   ],
   "source": [
    "evector"
   ]
  },
  {
   "cell_type": "code",
   "execution_count": 41,
   "metadata": {},
   "outputs": [
    {
     "data": {
      "text/plain": [
       "1.5632921556195138"
      ]
     },
     "execution_count": 41,
     "metadata": {},
     "output_type": "execute_result"
    }
   ],
   "source": [
    "(np.array([1, 0.505, 0.569, 0.602, 0.621, 0.603]) * evector[:,0]).sum()"
   ]
  },
  {
   "cell_type": "code",
   "execution_count": 36,
   "metadata": {
    "scrolled": true
   },
   "outputs": [
    {
     "data": {
      "text/plain": [
       "array([1.56329216, 1.27545325, 1.96074088, 1.99152059, 2.00041343,\n",
       "       1.99423091])"
      ]
     },
     "execution_count": 36,
     "metadata": {},
     "output_type": "execute_result"
    }
   ],
   "source": [
    "evalue[0]*evector[:,0]"
   ]
  },
  {
   "cell_type": "code",
   "execution_count": 38,
   "metadata": {},
   "outputs": [
    {
     "data": {
      "text/plain": [
       "array([1.56329216, 1.27545325, 1.96074088, 1.99152059, 2.00041343,\n",
       "       1.99423091])"
      ]
     },
     "execution_count": 38,
     "metadata": {},
     "output_type": "execute_result"
    }
   ],
   "source": [
    "m.dot(evector[:,0])"
   ]
  },
  {
   "cell_type": "code",
   "execution_count": 7,
   "metadata": {},
   "outputs": [
    {
     "data": {
      "text/plain": [
       "array([0, 1, 2, 3, 5, 4])"
      ]
     },
     "execution_count": 7,
     "metadata": {},
     "output_type": "execute_result"
    }
   ],
   "source": [
    "idx = np.argsort(-evalue)\n",
    "idx"
   ]
  },
  {
   "cell_type": "code",
   "execution_count": 8,
   "metadata": {},
   "outputs": [
    {
     "data": {
      "text/plain": [
       "array([4.4564485 , 0.78240991, 0.45842506, 0.16883257, 0.07908774,\n",
       "       0.05479622])"
      ]
     },
     "execution_count": 8,
     "metadata": {},
     "output_type": "execute_result"
    }
   ],
   "source": [
    "es = evalue[idx]\n",
    "es"
   ]
  },
  {
   "cell_type": "code",
   "execution_count": 12,
   "metadata": {},
   "outputs": [
    {
     "data": {
      "text/plain": [
       "array([[ 0.35079327,  0.28620397,  0.43997836,  0.44688514,  0.44888063,\n",
       "         0.44749331],\n",
       "       [ 0.39565321,  0.81464058, -0.26324462, -0.19720294, -0.16146667,\n",
       "        -0.21345033],\n",
       "       [ 0.84666989, -0.50202982, -0.11051604, -0.09896293, -0.06586761,\n",
       "        -0.0690664 ],\n",
       "       [ 0.05182494,  0.02010032,  0.50466755,  0.47037458, -0.54823826,\n",
       "        -0.46947138],\n",
       "       [ 0.02561535,  0.04236155,  0.33278818, -0.41567414, -0.5758624 ,\n",
       "         0.61838409],\n",
       "       [-0.01451715, -0.01468155, -0.59955835,  0.59797472, -0.36866442,\n",
       "         0.38290503]])"
      ]
     },
     "execution_count": 12,
     "metadata": {},
     "output_type": "execute_result"
    }
   ],
   "source": [
    "#由于每一列是一个特征向量，需要调整每一列的顺序，\n",
    "#而ev[idx]调整的是行的位置，因此进行两步转置\n",
    "ev = evector.transpose()\n",
    "ev"
   ]
  },
  {
   "cell_type": "code",
   "execution_count": 13,
   "metadata": {},
   "outputs": [
    {
     "data": {
      "text/plain": [
       "array([[ 0.35079327,  0.28620397,  0.43997836,  0.44688514,  0.44888063,\n",
       "         0.44749331],\n",
       "       [ 0.39565321,  0.81464058, -0.26324462, -0.19720294, -0.16146667,\n",
       "        -0.21345033],\n",
       "       [ 0.84666989, -0.50202982, -0.11051604, -0.09896293, -0.06586761,\n",
       "        -0.0690664 ],\n",
       "       [ 0.05182494,  0.02010032,  0.50466755,  0.47037458, -0.54823826,\n",
       "        -0.46947138],\n",
       "       [-0.01451715, -0.01468155, -0.59955835,  0.59797472, -0.36866442,\n",
       "         0.38290503],\n",
       "       [ 0.02561535,  0.04236155,  0.33278818, -0.41567414, -0.5758624 ,\n",
       "         0.61838409]])"
      ]
     },
     "execution_count": 13,
     "metadata": {},
     "output_type": "execute_result"
    }
   ],
   "source": [
    "ev = ev[idx]\n",
    "ev"
   ]
  },
  {
   "cell_type": "code",
   "execution_count": 14,
   "metadata": {},
   "outputs": [
    {
     "data": {
      "text/plain": [
       "array([[ 0.35079327,  0.39565321,  0.84666989,  0.05182494, -0.01451715,\n",
       "         0.02561535],\n",
       "       [ 0.28620397,  0.81464058, -0.50202982,  0.02010032, -0.01468155,\n",
       "         0.04236155],\n",
       "       [ 0.43997836, -0.26324462, -0.11051604,  0.50466755, -0.59955835,\n",
       "         0.33278818],\n",
       "       [ 0.44688514, -0.19720294, -0.09896293,  0.47037458,  0.59797472,\n",
       "        -0.41567414],\n",
       "       [ 0.44888063, -0.16146667, -0.06586761, -0.54823826, -0.36866442,\n",
       "        -0.5758624 ],\n",
       "       [ 0.44749331, -0.21345033, -0.0690664 , -0.46947138,  0.38290503,\n",
       "         0.61838409]])"
      ]
     },
     "execution_count": 14,
     "metadata": {},
     "output_type": "execute_result"
    }
   ],
   "source": [
    "ev = ev.transpose()\n",
    "ev"
   ]
  },
  {
   "cell_type": "code",
   "execution_count": 18,
   "metadata": {},
   "outputs": [],
   "source": [
    "import numpy as np\n",
    "import numpy.linalg as linalg\n",
    "A = np.random.random((3,3))\n",
    "eigenValues, eigenVectors = linalg.eig(A)\n"
   ]
  },
  {
   "cell_type": "code",
   "execution_count": 19,
   "metadata": {},
   "outputs": [
    {
     "name": "stdout",
     "output_type": "stream",
     "text": [
      "[[0.06038657 0.45142141 0.33832582]\n",
      " [0.5305437  0.49870353 0.54069379]\n",
      " [0.89418555 0.50619961 0.99436372]]\n",
      "[ 1.66728679 -0.26456331  0.15073034]\n",
      "[[-0.31231667 -0.83482169 -0.33588141]\n",
      " [-0.51202921  0.22405547 -0.60700707]\n",
      " [-0.80017772  0.50286369  0.72022642]]\n"
     ]
    }
   ],
   "source": [
    "print(A)\n",
    "print(eigenValues)\n",
    "print(eigenVectors)"
   ]
  },
  {
   "cell_type": "code",
   "execution_count": 20,
   "metadata": {},
   "outputs": [
    {
     "name": "stdout",
     "output_type": "stream",
     "text": [
      "[0 2 1]\n",
      "[ 1.66728679  0.15073034 -0.26456331]\n",
      "[[-0.31231667 -0.33588141 -0.83482169]\n",
      " [-0.51202921 -0.60700707  0.22405547]\n",
      " [-0.80017772  0.72022642  0.50286369]]\n"
     ]
    }
   ],
   "source": [
    "idx = eigenValues.argsort()[::-1]\n",
    "print(idx)\n",
    "eigenValues = eigenValues[idx]\n",
    "print(eigenValues)\n",
    "eigenVectors = eigenVectors[:,idx]\n",
    "print(eigenVectors)"
   ]
  },
  {
   "cell_type": "code",
   "execution_count": 25,
   "metadata": {},
   "outputs": [],
   "source": [
    "\n",
    "import numpy as np\n",
    "class PCA(object):\n",
    "    m = 0\n",
    "    n = 0\n",
    "    #降维所需的基向量\n",
    "    base_vectors = None\n",
    "    #均值归一化\n",
    "    def mean_normalization(self,X):\n",
    "        for j in range(self.n):\n",
    "            me = np.mean(X[:,j])\n",
    "            X[:,j] = X[:,j] - me\n",
    "        return X\n",
    "    #r为降低到的维数\n",
    "    def fit(self,X,r):\n",
    "        self.m = X.shape[0]\n",
    "        self.n = X.shape[1]\n",
    "        #均值归一化\n",
    "        X = self.mean_normalization(X)\n",
    "        Xt = X.T\n",
    "        #协方差矩阵\n",
    "        c = (1/self.m) * Xt.dot(X)\n",
    "        print(c)\n",
    "        #求解协方差矩阵的特征向量和特征值\n",
    "        eigenvalue,featurevector=np.linalg.eig(c)\n",
    "        #对特征值索引排序 从大到小\n",
    "        aso = np.argsort(eigenvalue)\n",
    "        indexs = aso[::-1]\n",
    "        print(\"特征值:\",eigenvalue)\n",
    "        print(\"特征向量:\",featurevector)\n",
    "        print(\"降为\",r,\"维\")\n",
    "        eigenvalue_sum = np.sum(eigenvalue)\n",
    "        self.base_vectors = []\n",
    "        for i in range(r):\n",
    "            print(\"第\",indexs[i],\"特征的解释率为:\",(eigenvalue[indexs[i]] / eigenvalue_sum))\n",
    "            self.base_vectors.append(featurevector[:,indexs[i]])#取前r个特征值大的特征向量作为基向量\n",
    "        self.base_vectors = np.array(self.base_vectors)\n",
    "        return\n",
    "    \n",
    "    def transform(self,X):\n",
    "        #r*n的P乘以n*m的矩阵转置后为m*r的矩阵\n",
    "        return self.base_vectors.dot(X.T).T\n",
    "    def fit_transform(self,X,r):\n",
    "        self.fit(X, r)\n",
    "        return self.transform(X)\n"
   ]
  },
  {
   "cell_type": "code",
   "execution_count": null,
   "metadata": {},
   "outputs": [],
   "source": []
  }
 ],
 "metadata": {
  "kernelspec": {
   "display_name": "Python 3 (ipykernel)",
   "language": "python",
   "name": "python3"
  },
  "language_info": {
   "codemirror_mode": {
    "name": "ipython",
    "version": 3
   },
   "file_extension": ".py",
   "mimetype": "text/x-python",
   "name": "python",
   "nbconvert_exporter": "python",
   "pygments_lexer": "ipython3",
   "version": "3.9.10+"
  }
 },
 "nbformat": 4,
 "nbformat_minor": 2
}
