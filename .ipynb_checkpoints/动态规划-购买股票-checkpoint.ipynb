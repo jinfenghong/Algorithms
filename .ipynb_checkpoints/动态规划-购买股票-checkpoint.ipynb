{
 "cells": [
  {
   "cell_type": "markdown",
   "id": "a5a9e9f3",
   "metadata": {},
   "source": [
    "## 121. 买卖股票的最佳时机\n",
    "\n",
    "给定一个数组 prices ，它的第 i 个元素 prices[i] 表示一支给定股票第 i 天的价格。\n",
    "\n",
    "你只能选择 某一天 买入这只股票，并选择在 未来的某一个不同的日子 卖出该股票。设计一个算法来计算你所能获取的最大利润。\n",
    "\n",
    "返回你可以从这笔交易中获取的最大利润。如果你不能获取任何利润，返回 0 。"
   ]
  },
  {
   "cell_type": "code",
   "execution_count": 6,
   "id": "55acfcca",
   "metadata": {},
   "outputs": [],
   "source": [
    "# 贪心算法\n",
    "\n",
    "def maxProfit(prices: list[int]) -> int:\n",
    "    low = float('inf')\n",
    "    result = 0\n",
    "\n",
    "    for p in prices:\n",
    "        low = min(low, p)  # 去最做最小价格\n",
    "        result = max(result, p - low)  # 直接去最大区间利润\n",
    "\n",
    "    return result\n",
    "\n",
    "maxProfit([7,1,5,3,6,4])"
   ]
  },
  {
   "cell_type": "code",
   "execution_count": 14,
   "id": "7c63d8e0",
   "metadata": {},
   "outputs": [],
   "source": [
    "# 动态规划：版本一\n",
    "\n",
    "def maxProfit(prices: list[int]) -> int:\n",
    "    length = len(prices)\n",
    "    if length == 0:\n",
    "        return 0\n",
    "    \n",
    "    dp = [[0]*2] * length\n",
    "    dp[0][0] = -prices[0]\n",
    "    dp[0][1] = 0\n",
    "    \n",
    "    for i in range(1, length):\n",
    "        dp[i][0] = max(dp[i-1][0], -prices[i])\n",
    "        dp[i][1] = max(dp[i-1][1], prices[i] + dp[i-1][0])\n",
    "    \n",
    "    return dp[-1][1]\n",
    "\n",
    "maxProfit([7,1,5,3,6,4])"
   ]
  },
  {
   "cell_type": "code",
   "execution_count": 26,
   "id": "6fc7a371",
   "metadata": {},
   "outputs": [
    {
     "data": {
      "text/plain": [
       "5"
      ]
     },
     "execution_count": 26,
     "metadata": {},
     "output_type": "execute_result"
    }
   ],
   "source": [
    "# 动态规划：版本二\n",
    "# dp[i]只是依赖于dp[i - 1]的状态，我们只需要记录当前天的dp状态和前一天的dp状态就可以了，可以使用滚动数组来节省空间\n",
    "\n",
    "def maxProfit(prices: list[int]) -> int:\n",
    "    length = len(prices)\n",
    "    if length == 0:\n",
    "        return 0\n",
    "    \n",
    "    dp = [[0]*2] * 2\n",
    "    dp[0][0] = -prices[0]\n",
    "    dp[0][1] = 0\n",
    "    \n",
    "    for i in range(1, length):\n",
    "        dp[i % 2][0] = max(dp[(i-1) % 2][0], -prices[i])\n",
    "        dp[i % 2][1] = max(dp[(i-1) % 2][1], prices[i] + dp[(i-1) % 2][0])\n",
    "    \n",
    "    return dp[(length-1) % 2][1]\n",
    "\n",
    "maxProfit([7,1,5,3,6,4])"
   ]
  },
  {
   "cell_type": "code",
   "execution_count": 33,
   "id": "b45c54fa",
   "metadata": {},
   "outputs": [
    {
     "data": {
      "text/plain": [
       "0"
      ]
     },
     "execution_count": 33,
     "metadata": {},
     "output_type": "execute_result"
    }
   ],
   "source": [
    "# 动态规划：版本三\n",
    "\n",
    "def maxProfit(prices: list[int]) -> int:\n",
    "    length = len(prices)\n",
    "    if length == 0:\n",
    "        return 0\n",
    "    \n",
    "    dp0, dp1 = -prices[0], 0  # 注意这里指维护两个常量，因为dp0的更新不受dp1的影响\n",
    "    \n",
    "    for i in range(1, length):\n",
    "        dp0 = max(dp0, -prices[i])\n",
    "        dp1 = max(dp1, dp0 + prices[i])\n",
    "        \n",
    "    \n",
    "    return dp1\n",
    "\n",
    "# maxProfit([7,1,5,3,6,4])\n",
    "maxProfit([7,6,4,3,1])"
   ]
  },
  {
   "cell_type": "markdown",
   "id": "44b647ee",
   "metadata": {},
   "source": [
    "## 122.买卖股票的最佳时机II\n",
    "给定一个数组，它的第 i 个元素是一支给定股票第 i 天的价格。\n",
    "\n",
    "设计一个算法来计算你所能获取的最大利润。你可以尽可能地完成更多的交易（多次买卖一支股票）。\n",
    "\n",
    "注意：你不能同时参与多笔交易（你必须在再次购买前出售掉之前的股票）。"
   ]
  },
  {
   "cell_type": "code",
   "execution_count": null,
   "id": "37fb77ae",
   "metadata": {},
   "outputs": [],
   "source": [
    "# 贪心算法\n",
    "\n"
   ]
  }
 ],
 "metadata": {
  "kernelspec": {
   "display_name": "Python 3 (ipykernel)",
   "language": "python",
   "name": "python3"
  },
  "language_info": {
   "codemirror_mode": {
    "name": "ipython",
    "version": 3
   },
   "file_extension": ".py",
   "mimetype": "text/x-python",
   "name": "python",
   "nbconvert_exporter": "python",
   "pygments_lexer": "ipython3",
   "version": "3.9.13"
  }
 },
 "nbformat": 4,
 "nbformat_minor": 5
}
