{
 "cells": [
  {
   "cell_type": "code",
   "execution_count": 7,
   "id": "7a85157a",
   "metadata": {},
   "outputs": [],
   "source": [
    "import pandas as pd\n",
    "import numpy as np\n",
    "import statsmodels.api as sm"
   ]
  },
  {
   "cell_type": "code",
   "execution_count": 33,
   "id": "3b4f4de1",
   "metadata": {},
   "outputs": [],
   "source": [
    "from WindPy import w"
   ]
  },
  {
   "cell_type": "code",
   "execution_count": 70,
   "id": "b0cea952",
   "metadata": {},
   "outputs": [
    {
     "name": "stdout",
     "output_type": "stream",
     "text": [
      "Welcome to use Wind Quant API for Python (WindPy)!\n",
      "\n",
      "COPYRIGHT (C) 2021 WIND INFORMATION CO., LTD. ALL RIGHTS RESERVED.\n",
      "IN NO CIRCUMSTANCE SHALL WIND BE RESPONSIBLE FOR ANY DAMAGES OR LOSSES CAUSED BY USING WIND QUANT API FOR Python.\n"
     ]
    },
    {
     "data": {
      "text/plain": [
       "True"
      ]
     },
     "execution_count": 70,
     "metadata": {},
     "output_type": "execute_result"
    }
   ],
   "source": [
    "# import os\n",
    "# import distutils.sysconfig\n",
    "# os.system('ln -sf /Applications/Wind\\ API.app/Contents/python/WindPy.py' + ' ' + distutils.sysconfig.get_python_lib())\n",
    "# os.system('ln -sf ~/Library/Containers/com.wind.mac.api/Data/.Wind ~/.Wind')\n",
    "\n",
    "w.start() # 默认命令超时时间为120秒，如需设置超时时间可以加入waitTime参数，例如waitTime=60,即设置命令超时时间为60秒  \n",
    "w.isconnected() # 判断WindPy是否已经登录成功"
   ]
  },
  {
   "cell_type": "code",
   "execution_count": 38,
   "id": "808da764",
   "metadata": {},
   "outputs": [],
   "source": [
    "data = w.wss(\"110043.SH, 110044.SH,  110045.SH,  110047.SH,  110048.SH,  110052.SH,  110053.SH,  110055.SH,  110058.SH,  110059.SH,  110060.SH,  110061.SH,  110062.SH,  110063.SH,  110064.SH,  110067.SH,  110068.SH,  110070.SH,  110072.SH,  110073.SH,  110074.SH,  110075.SH,  110076.SH,  110077.SH,  110079.SH,  110080.SH,  110081.SH,  110082.SH,  110083.SH,  110084.SH,  110085.SH,  110086.SH,  110087.SH,  110088.SH,  110089.SH,  110090.SH,  110091.SH,  110092.SH,  110093.SH,  110094.SH,  110095.SH,  110801.SH,  110807.SH,  110808.SH,  110813.SH,  110815.SH,  110816.SH,  111000.SH,  111001.SH,  111002.SH,  111003.SH,  111004.SH,  111005.SH,  111007.SH,  111008.SH,  111009.SH,  111010.SH,  111011.SH,  111012.SH,  111013.SH,  111014.SH,  111015.SH,  111016.SH,  111017.SH,  113017.SH,  113021.SH,  113024.SH,  113025.SH,  113027.SH,  113030.SH,  113033.SH,  113037.SH,  113039.SH,  113042.SH,  113043.SH,  113044.SH,  113045.SH,  113046.SH,  113047.SH,  113048.SH,  113049.SH,  113050.SH,  113051.SH,  113052.SH,  113053.SH,  113054.SH,  113055.SH,  113056.SH,  113057.SH,  113058.SH,  113059.SH,  113060.SH,  113061.SH,  113062.SH,  113063.SH,  113064.SH,  113065.SH,  113066.SH,  113067.SH,  113068.SH,  113504.SH,  113505.SH,  113516.SH,  113519.SH,  113524.SH,  113526.SH,  113527.SH,  113530.SH,  113532.SH,  113534.SH,  113535.SH,  113537.SH,  113542.SH,  113545.SH,  113546.SH,  113549.SH,  113561.SH,  113563.SH,  113565.SH,  113566.SH,  113569.SH,  113573.SH,  113574.SH,  113575.SH,  113576.SH,  113577.SH,  113578.SH,  113579.SH,  113582.SH,  113584.SH,  113588.SH,  113589.SH,  113591.SH,  113593.SH,  113594.SH,  113595.SH,  113596.SH,  113597.SH,  113598.SH,  113600.SH,  113601.SH,  113602.SH,  113604.SH,  113605.SH,  113606.SH,  113608.SH,  113609.SH,  113610.SH,  113615.SH,  113616.SH,  113618.SH,  113619.SH,  113621.SH,  113623.SH,  113624.SH,  113625.SH,  113626.SH,  113627.SH,  113628.SH,  113629.SH,  113631.SH,  113632.SH,  113633.SH,  113634.SH,  113636.SH,  113637.SH,  113638.SH,  113639.SH,  113640.SH,  113641.SH,  113643.SH,  113644.SH,  113646.SH,  113647.SH,  113648.SH,  113649.SH,  113650.SH,  113651.SH,  113652.SH,  113653.SH,  113654.SH,  113655.SH,  113656.SH,  113657.SH,  113658.SH,  113659.SH,  113660.SH,  113661.SH,  113662.SH,  113663.SH,  113664.SH,  113665.SH,  113666.SH,  113667.SH,  113668.SH,  113669.SH,  113670.SH,  113671.SH,  113672.SH,  113673.SH,  113674.SH,  113675.SH,  118000.SH,  118003.SH,  118004.SH,  118005.SH,  118006.SH,  118007.SH,  118008.SH,  118009.SH,  118010.SH,  118011.SH,  118012.SH,  118013.SH,  118014.SH,  118015.SH,  118016.SH,  118017.SH,  118018.SH,  118019.SH,  118020.SH,  118021.SH,  118022.SH,  118023.SH,  118024.SH,  118025.SH,  118026.SH,  118027.SH,  118028.SH,  118029.SH,  118030.SH,  118031.SH,  118032.SH,  118033.SH,  118034.SH,  118035.SH,  118036.SH,  118037.SH,  118038.SH,  118039.SH,  118040.SH,  118041.SH,  118042.SH,  118043.SH,  123002.SZ,  123004.SZ,  123010.SZ,  123011.SZ,  123012.SZ,  123013.SZ,  123018.SZ,  123022.SZ,  123025.SZ,  123029.SZ,  123031.SZ,  123034.SZ,  123035.SZ,  123038.SZ,  123039.SZ,  123044.SZ,  123046.SZ,  123048.SZ,  123049.SZ,  123050.SZ,  123052.SZ,  123054.SZ,  123056.SZ,  123059.SZ,  123061.SZ,  123063.SZ,  123064.SZ,  123065.SZ,  123067.SZ,  123071.SZ,  123072.SZ,  123076.SZ,  123078.SZ,  123080.SZ,  123082.SZ,  123085.SZ,  123087.SZ,  123088.SZ,  123089.SZ,  123090.SZ,  123091.SZ,  123092.SZ,  123093.SZ,  123096.SZ,  123099.SZ,  123100.SZ,  123101.SZ,  123103.SZ,  123104.SZ,  123106.SZ,  123107.SZ,  123108.SZ,  123109.SZ,  123112.SZ,  123113.SZ,  123114.SZ,  123115.SZ,  123117.SZ,  123118.SZ,  123119.SZ,  123120.SZ,  123121.SZ,  123122.SZ,  123124.SZ,  123126.SZ,  123127.SZ,  123128.SZ,  123129.SZ,  123130.SZ,  123131.SZ,  123132.SZ,  123133.SZ,  123135.SZ,  123138.SZ,  123140.SZ,  123141.SZ,  123142.SZ,  123143.SZ,  123144.SZ,  123145.SZ,  123146.SZ,  123147.SZ,  123149.SZ,  123150.SZ,  123151.SZ,  123152.SZ,  123153.SZ,  123154.SZ,  123155.SZ,  123156.SZ,  123157.SZ,  123158.SZ,  123159.SZ,  123160.SZ,  123161.SZ,  123162.SZ,  123163.SZ,  123164.SZ,  123165.SZ,  123166.SZ,  123167.SZ,  123168.SZ,  123169.SZ,  123170.SZ,  123171.SZ,  123172.SZ,  123173.SZ,  123174.SZ,  123175.SZ,  123176.SZ,  123177.SZ,  123178.SZ,  123179.SZ,  123180.SZ,  123181.SZ,  123182.SZ,  123183.SZ,  123184.SZ,  123185.SZ,  123186.SZ,  123187.SZ,  123188.SZ,  123189.SZ,  123190.SZ,  123191.SZ,  123192.SZ,  123193.SZ,  123194.SZ,  123195.SZ,  123196.SZ,  123197.SZ,  123198.SZ,  123199.SZ,  123200.SZ,  123201.SZ,  123202.SZ,  123203.SZ,  123204.SZ,  123205.SZ,  123206.SZ,  123207.SZ,  123208.SZ,  123209.SZ,  123210.SZ,  123211.SZ,  123212.SZ,  123213.SZ,  123214.SZ,  123215.SZ,  123216.SZ,  123217.SZ,  123218.SZ,  123219.SZ,  124002.SZ,  124003.SZ,  124006.SZ,  124012.SZ,  124014.SZ,  127005.SZ,  127006.SZ,  127007.SZ,  127012.SZ,  127014.SZ,  127015.SZ,  127016.SZ,  127017.SZ,  127018.SZ,  127019.SZ,  127020.SZ,  127022.SZ,  127024.SZ,  127025.SZ,  127026.SZ,  127027.SZ,  127028.SZ,  127029.SZ,  127030.SZ,  127031.SZ,  127032.SZ,  127033.SZ,  127034.SZ,  127035.SZ,  127037.SZ,  127038.SZ,  127039.SZ,  127040.SZ,  127041.SZ,  127042.SZ,  127043.SZ,  127044.SZ,  127045.SZ,  127046.SZ,  127047.SZ,  127049.SZ,  127050.SZ,  127051.SZ,  127052.SZ,  127053.SZ,  127054.SZ,  127055.SZ,  127056.SZ,  127058.SZ,  127059.SZ,  127060.SZ,  127061.SZ,  127062.SZ,  127063.SZ,  127064.SZ,  127065.SZ,  127066.SZ,  127067.SZ,  127068.SZ,  127069.SZ,  127070.SZ,  127071.SZ,  127072.SZ,  127073.SZ,  127074.SZ,  127075.SZ,  127076.SZ,  127077.SZ,  127078.SZ,  127079.SZ,  127080.SZ,  127081.SZ,  127082.SZ,  127083.SZ,  127084.SZ,  127085.SZ,  127086.SZ,  127087.SZ,  127088.SZ,  127089.SZ,  127090.SZ,  128017.SZ,  128021.SZ,  128023.SZ,  128025.SZ,  128026.SZ,  128030.SZ,  128033.SZ,  128034.SZ,  128035.SZ,  128036.SZ,  128037.SZ,  128039.SZ,  128041.SZ,  128042.SZ,  128044.SZ,  128048.SZ,  128049.SZ,  128053.SZ,  128056.SZ,  128062.SZ,  128063.SZ,  128066.SZ,  128070.SZ,  128071.SZ,  128072.SZ,  128074.SZ,  128075.SZ,  128076.SZ,  128079.SZ,  128081.SZ,  128082.SZ,  128083.SZ,  128085.SZ,  128087.SZ,  128090.SZ,  128091.SZ,  128095.SZ,  128097.SZ,  128101.SZ,  128105.SZ,  128106.SZ,  128108.SZ,  128109.SZ,  128111.SZ,  128114.SZ,  128116.SZ,  128117.SZ,  128118.SZ,  128119.SZ,  128120.SZ,  128121.SZ,  128122.SZ,  128123.SZ,  128124.SZ,  128125.SZ,  128127.SZ,  128128.SZ,  128129.SZ,  128130.SZ,  128131.SZ,  128132.SZ,  128133.SZ,  128134.SZ,  128135.SZ,  128136.SZ,  128137.SZ,  128138.SZ,  128140.SZ,  128141.SZ,  128142.SZ,  128143.SZ,  128144.SZ,  300001.CCE,  300002.CCE,  300012.CCE,  300015.CCE,  300016.CCE,  300017.CCE,  300018.CCE,  300019.CCE,  300020.CCE,  300023.CCE,  404001.NQ,  58000201.AHE,  58000202.AHE,  810001.NQ,  810003.NQ,  810004.NQ,  810006.NQ,  810007.NQ,  810008.NQ,  900045.BJE,  900050.BJE,  900051.BJE,  900052.BJE,  q17080308.SJZ,  q18061203.JXJ,  q18090302.QEE,  q18092802.QEE,  q18101101.GBG,  q19032508.JXJ,  q19032509.JXJ,  q19040201.SJZ,  q19052301.QEE,  q19052408.IME,  q19052410.IME,  q19052412.IME,  q19052415.QEE,  q19052416.QEE,  q19052417.QEE,  q19052707.BJE,  q19101423.JXJ,  117058.SZ,  117172.SZ,  117173.SZ,  117174.SZ,  117175.SZ,  117181.SZ,  117190.SZ,  117191.SZ,  117192.SZ,  117193.SZ,  117194.SZ,  117195.SZ,  117196.SZ,  117197.SZ,  117198.SZ,  117199.SZ,  117200.SZ,  117201.SZ,  117202.SZ,  117203.SZ,  117204.SZ,  117205.SZ,  117206.SZ,  117207.SZ,  117208.SZ,  117209.SZ,  132018.SH,  132020.SH,  132026.SH,  137000.SH,  137061.SH,  137102.SH,  137116.SH,  137118.SH,  137119.SH,  137120.SH,  137121.SH,  137125.SH,  137126.SH,  137127.SH,  137128.SH,  137129.SH,  137132.SH,  137134.SH,  137135.SH,  137136.SH,  137137.SH,  137138.SH,  137139.SH,  137140.SH,  137141.SH,  137142.SH,  137143.SH,  137144.SH,  137146.SH,  137148.SH,  137149.SH,  137150.SH,  137151.SH,  137152.SH,  137153.SH,  137154.SH,  137155.SH,  137156.SH,  137157.SH,  137158.SH,  137159.SH,  137160.SH,  137161.SH,  137165.SH,  137166.SH,  137167.SH,  137168.SH,  137169.SH,  137170.SH,  137171.SH,  137173.SH,  137174.SH,  137175.SH,  137176.SH,  137177.SH,  137179.SH\", \"ipo_date,  sec_status,  delist_date,  fullname,  windl1type,  underlyingcode,  underlyingname\", \"\")"
   ]
  },
  {
   "cell_type": "code",
   "execution_count": 59,
   "id": "5d779735",
   "metadata": {},
   "outputs": [],
   "source": [
    "df = pd.DataFrame({data.Fields[i]:data.Data[i] for i in range(len(data.Fields))})\n",
    "df['code'] = data.Codes\n",
    "df.columns = df.columns.str.lower()\n",
    "df = df[df.sec_status=='L'].reset_index(drop=True)"
   ]
  },
  {
   "cell_type": "code",
   "execution_count": 72,
   "id": "bd4c8008",
   "metadata": {},
   "outputs": [],
   "source": [
    "df.to_pickle('cbond_basic_info.pkl')"
   ]
  },
  {
   "cell_type": "code",
   "execution_count": 73,
   "id": "c3c5de2e",
   "metadata": {
    "scrolled": true
   },
   "outputs": [
    {
     "data": {
      "text/html": [
       "<div>\n",
       "<style scoped>\n",
       "    .dataframe tbody tr th:only-of-type {\n",
       "        vertical-align: middle;\n",
       "    }\n",
       "\n",
       "    .dataframe tbody tr th {\n",
       "        vertical-align: top;\n",
       "    }\n",
       "\n",
       "    .dataframe thead th {\n",
       "        text-align: right;\n",
       "    }\n",
       "</style>\n",
       "<table border=\"1\" class=\"dataframe\">\n",
       "  <thead>\n",
       "    <tr style=\"text-align: right;\">\n",
       "      <th></th>\n",
       "      <th>ipo_date</th>\n",
       "      <th>sec_status</th>\n",
       "      <th>delist_date</th>\n",
       "      <th>fullname</th>\n",
       "      <th>windl1type</th>\n",
       "      <th>underlyingcode</th>\n",
       "      <th>underlyingname</th>\n",
       "      <th>code</th>\n",
       "    </tr>\n",
       "  </thead>\n",
       "  <tbody>\n",
       "    <tr>\n",
       "      <th>0</th>\n",
       "      <td>2018-03-14</td>\n",
       "      <td>L</td>\n",
       "      <td>2024-01-30</td>\n",
       "      <td>2018年无锡农村商业银行股份有限公司可转换公司债券</td>\n",
       "      <td>可转债</td>\n",
       "      <td>600908.SH</td>\n",
       "      <td>无锡银行</td>\n",
       "      <td>110043.SH</td>\n",
       "    </tr>\n",
       "    <tr>\n",
       "      <th>1</th>\n",
       "      <td>2018-07-24</td>\n",
       "      <td>L</td>\n",
       "      <td>2024-06-27</td>\n",
       "      <td>2018年陕西广电网络传媒(集团)股份有限公司可转换公司债券</td>\n",
       "      <td>可转债</td>\n",
       "      <td>600831.SH</td>\n",
       "      <td>广电网络</td>\n",
       "      <td>110044.SH</td>\n",
       "    </tr>\n",
       "    <tr>\n",
       "      <th>2</th>\n",
       "      <td>2018-07-31</td>\n",
       "      <td>L</td>\n",
       "      <td>2024-07-13</td>\n",
       "      <td>2018年海澜之家股份有限公司可转换公司债券</td>\n",
       "      <td>可转债</td>\n",
       "      <td>600398.SH</td>\n",
       "      <td>海澜之家</td>\n",
       "      <td>110045.SH</td>\n",
       "    </tr>\n",
       "    <tr>\n",
       "      <th>3</th>\n",
       "      <td>2018-12-10</td>\n",
       "      <td>L</td>\n",
       "      <td>2024-11-21</td>\n",
       "      <td>2018年山鹰国际控股股份公司公开发行可转换公司债券</td>\n",
       "      <td>可转债</td>\n",
       "      <td>600567.SH</td>\n",
       "      <td>山鹰国际</td>\n",
       "      <td>110047.SH</td>\n",
       "    </tr>\n",
       "    <tr>\n",
       "      <th>4</th>\n",
       "      <td>2018-12-28</td>\n",
       "      <td>L</td>\n",
       "      <td>2024-12-07</td>\n",
       "      <td>2018年福建福能股份有限公司可转换公司债券</td>\n",
       "      <td>可转债</td>\n",
       "      <td>600483.SH</td>\n",
       "      <td>福能股份</td>\n",
       "      <td>110048.SH</td>\n",
       "    </tr>\n",
       "  </tbody>\n",
       "</table>\n",
       "</div>"
      ],
      "text/plain": [
       "    ipo_date sec_status delist_date                        fullname  \\\n",
       "0 2018-03-14          L  2024-01-30      2018年无锡农村商业银行股份有限公司可转换公司债券   \n",
       "1 2018-07-24          L  2024-06-27  2018年陕西广电网络传媒(集团)股份有限公司可转换公司债券   \n",
       "2 2018-07-31          L  2024-07-13          2018年海澜之家股份有限公司可转换公司债券   \n",
       "3 2018-12-10          L  2024-11-21      2018年山鹰国际控股股份公司公开发行可转换公司债券   \n",
       "4 2018-12-28          L  2024-12-07          2018年福建福能股份有限公司可转换公司债券   \n",
       "\n",
       "  windl1type underlyingcode underlyingname       code  \n",
       "0        可转债      600908.SH           无锡银行  110043.SH  \n",
       "1        可转债      600831.SH           广电网络  110044.SH  \n",
       "2        可转债      600398.SH           海澜之家  110045.SH  \n",
       "3        可转债      600567.SH           山鹰国际  110047.SH  \n",
       "4        可转债      600483.SH           福能股份  110048.SH  "
      ]
     },
     "execution_count": 73,
     "metadata": {},
     "output_type": "execute_result"
    }
   ],
   "source": [
    "df.head()"
   ]
  },
  {
   "cell_type": "code",
   "execution_count": 62,
   "id": "c63a82de",
   "metadata": {},
   "outputs": [],
   "source": [
    "start_date = '2018-03-01'\n",
    "end_date = '2023-06-30'"
   ]
  },
  {
   "cell_type": "code",
   "execution_count": 68,
   "id": "64d5616a",
   "metadata": {},
   "outputs": [],
   "source": [
    "# def last_21_trading_volume(start_dt, end_dt, sec_list):\n",
    "vol = w.wsd(\",\".join(df.code.to_list()), \"volume\", \"2018-01-01\", end_date, \"\")"
   ]
  },
  {
   "cell_type": "code",
   "execution_count": 71,
   "id": "261a855b",
   "metadata": {},
   "outputs": [
    {
     "data": {
      "text/plain": [
       ".ErrorCode=-40520004\n",
       ".Codes=[ErrorReport]\n",
       ".Fields=[OUTMESSAGE]\n",
       ".Times=[20230815]\n",
       ".Data=[[Service Exception: Service connection is failed, please check your network]]"
      ]
     },
     "execution_count": 71,
     "metadata": {},
     "output_type": "execute_result"
    }
   ],
   "source": [
    "vol"
   ]
  },
  {
   "cell_type": "code",
   "execution_count": null,
   "id": "6b847f3f",
   "metadata": {
    "collapsed": true
   },
   "outputs": [],
   "source": []
  },
  {
   "cell_type": "code",
   "execution_count": null,
   "id": "9dd80c53",
   "metadata": {},
   "outputs": [],
   "source": []
  },
  {
   "cell_type": "code",
   "execution_count": 74,
   "id": "da8ad98e",
   "metadata": {},
   "outputs": [],
   "source": [
    "w.stop() # 当需要停止WindPy时，可以使用该命令\n",
    "          # 注： w.start不重复启动，若需要改变参数，如超时时间，用户可以使用w.stop命令先停止后再启动。\n",
    "          # 退出时，会自动执行w.stop()，一般用户并不需要执行w.stop "
   ]
  },
  {
   "cell_type": "code",
   "execution_count": null,
   "id": "734f9e1c",
   "metadata": {},
   "outputs": [],
   "source": []
  }
 ],
 "metadata": {
  "kernelspec": {
   "display_name": "Python 3 (ipykernel)",
   "language": "python",
   "name": "python3"
  },
  "language_info": {
   "codemirror_mode": {
    "name": "ipython",
    "version": 3
   },
   "file_extension": ".py",
   "mimetype": "text/x-python",
   "name": "python",
   "nbconvert_exporter": "python",
   "pygments_lexer": "ipython3",
   "version": "3.9.13"
  }
 },
 "nbformat": 4,
 "nbformat_minor": 5
}
