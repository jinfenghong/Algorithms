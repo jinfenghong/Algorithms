{
 "cells": [
  {
   "cell_type": "code",
   "execution_count": 5,
   "id": "9a582aad",
   "metadata": {},
   "outputs": [],
   "source": [
    "import numpy as np\n",
    "import pandas as pd"
   ]
  },
  {
   "cell_type": "markdown",
   "id": "f372364a",
   "metadata": {},
   "source": [
    "## 夏普比率"
   ]
  },
  {
   "cell_type": "code",
   "execution_count": 3,
   "id": "beefed4b",
   "metadata": {},
   "outputs": [
    {
     "name": "stdout",
     "output_type": "stream",
     "text": [
      "2.5824610244740964\n"
     ]
    }
   ],
   "source": [
    "data = np.random.normal(size=100)\n",
    "\n",
    "rf = 0.03\n",
    "\n",
    "# 年化夏普比率\n",
    "sharpe = (data.mean()-rf) / data.std(ddof=1) * np.sqrt(252)\n",
    "\n",
    "print(sharpe)"
   ]
  },
  {
   "cell_type": "markdown",
   "id": "fcd1c5a0",
   "metadata": {},
   "source": [
    "## 最大回撤"
   ]
  },
  {
   "cell_type": "code",
   "execution_count": 5,
   "id": "312ebaa3",
   "metadata": {},
   "outputs": [
    {
     "name": "stdout",
     "output_type": "stream",
     "text": [
      "-0.899617267006931 -0.899617267006931\n"
     ]
    }
   ],
   "source": [
    "data = np.random.lognormal(0, 0.5, 100)\n",
    "\n",
    "# 找到区间截至每日的最大复权单位净值\n",
    "acc_max = np.maximum.accumulate(data)\n",
    "\n",
    "# 每日当前回撤\n",
    "dd = (data - acc_max) / acc_max\n",
    "\n",
    "# 区间最大回撤结束位置\n",
    "j = np.argmin(dd)\n",
    "\n",
    "# 区间最大回撤开始位置\n",
    "i = np.argmax(data[:j]) if j != 0 else 0\n",
    "\n",
    "max_dd = (data[j] - data[i]) / data[i]\n",
    "\n",
    "print(max_dd, dd.min())"
   ]
  },
  {
   "cell_type": "markdown",
   "id": "6439c608",
   "metadata": {},
   "source": [
    "## 年化卡玛比率 Calmar Ratio"
   ]
  },
  {
   "cell_type": "code",
   "execution_count": 22,
   "id": "9a8ed9e4",
   "metadata": {},
   "outputs": [
    {
     "name": "stdout",
     "output_type": "stream",
     "text": [
      "-0.10231682630000935\n",
      "-0.10231682630000317\n"
     ]
    }
   ],
   "source": [
    "# method1: 已知价格求解\n",
    "r = data[-1] / data[0]  # 注意这里不是收益率，收益率 = r - 1\n",
    "\n",
    "cm = (np.power(r, 250/len(data)) - 1) / abs(max_dd)\n",
    "print(cm)\n",
    "\n",
    "# method2: 通过收益率计算\n",
    "ret = data[1:]/data[:-1] - 1  # ret.size == 99, data.size == 100\n",
    "cm = (np.power(np.cumprod(ret+1)[-1], 250/len(data)) - 1) / abs(max_dd)\n",
    "print(cm)"
   ]
  },
  {
   "cell_type": "markdown",
   "id": "cbeec594",
   "metadata": {},
   "source": [
    "## Beta 和 Alpha"
   ]
  },
  {
   "cell_type": "code",
   "execution_count": 24,
   "id": "c6e4cf3d",
   "metadata": {},
   "outputs": [],
   "source": [
    "bmk = np.random.normal(size=100)\n",
    "port = np.random.normal(size=100)"
   ]
  },
  {
   "cell_type": "code",
   "execution_count": 25,
   "id": "431a2ad4",
   "metadata": {},
   "outputs": [
    {
     "name": "stdout",
     "output_type": "stream",
     "text": [
      "[[ 1.10567626 -0.06244243]\n",
      " [-0.06244243  1.01178906]]\n",
      "-0.056474426404903764 0.08815429469556636\n"
     ]
    }
   ],
   "source": [
    "# 方法一：直接公式计算\n",
    "\n",
    "# covariance\n",
    "cov = np.cov(bmk, port)\n",
    "\n",
    "beta = cov[0][1] / cov[0][0]\n",
    "alpha = port.mean() - beta * bmk.mean()\n",
    "\n",
    "print(cov)\n",
    "print(beta, alpha)"
   ]
  },
  {
   "cell_type": "code",
   "execution_count": 38,
   "id": "aa1f0973",
   "metadata": {},
   "outputs": [
    {
     "name": "stdout",
     "output_type": "stream",
     "text": [
      "-0.05647442640490378 0.08815429469556636\n"
     ]
    }
   ],
   "source": [
    "# 方法二：调包\n",
    "from sklearn import linear_model\n",
    "\n",
    "# 建立线性回归模型\n",
    "regr = linear_model.LinearRegression()\n",
    "# 拟合\n",
    "regr.fit(bmk.reshape(-1,1), port.reshape(-1,1))\n",
    "# 不难得到直线的斜率、截距\n",
    "beta, alpha = regr.coef_[0][0], regr.intercept_[0]\n",
    "\n",
    "print(beta, alpha)"
   ]
  },
  {
   "cell_type": "markdown",
   "id": "5e2d4155",
   "metadata": {},
   "source": [
    "## IC值\n",
    "\n",
    "- 用 Numpy 方法排序：\n",
    "在计算因子排名时，我们需要行因子值按照大小（从大到小）进行排序，并将排序后的结果转换为排名。在numpy库中，我们可以使用argsort函数来实现排序和排名的转换。\n",
    "\n",
    "具体来说，argsort函数会返回原数组中每个元素在排序后的数组中的下标，从小到大排列。例如，对于数组[3,1,4,2]，argsort函数返回的结果为[1,3,0,2]，表示原数组中第二个元素（下标为1）在排序后的数组中排在第一位，第四个元素（下标为3）在排序后的数组中排在第二位，以此类推。\n",
    "\n",
    "在计算因子排名时，我们需要将因子值从大到小排序，因此需要对原数组进行取反操作（即，-pe)，然后使用argsort函数进行排序。由于argsort函数返回的是下标，因此我们需要再次使用argsort将下标转换为排名。具体来说，我们可以使用argsort对排序后的下标进行排序，然后将排序后的结果加1，即可得到排名。"
   ]
  },
  {
   "cell_type": "code",
   "execution_count": 7,
   "id": "8c0979c4",
   "metadata": {},
   "outputs": [
    {
     "name": "stdout",
     "output_type": "stream",
     "text": [
      "IC值： -0.02900857700857701\n",
      "IC值： -0.02900857700857701\n"
     ]
    },
    {
     "data": {
      "text/html": [
       "<div>\n",
       "<style scoped>\n",
       "    .dataframe tbody tr th:only-of-type {\n",
       "        vertical-align: middle;\n",
       "    }\n",
       "\n",
       "    .dataframe tbody tr th {\n",
       "        vertical-align: top;\n",
       "    }\n",
       "\n",
       "    .dataframe thead th {\n",
       "        text-align: right;\n",
       "    }\n",
       "</style>\n",
       "<table border=\"1\" class=\"dataframe\">\n",
       "  <thead>\n",
       "    <tr style=\"text-align: right;\">\n",
       "      <th></th>\n",
       "      <th>returns</th>\n",
       "      <th>returns_rank</th>\n",
       "      <th>pe</th>\n",
       "      <th>pe_rank</th>\n",
       "    </tr>\n",
       "  </thead>\n",
       "  <tbody>\n",
       "    <tr>\n",
       "      <th>0</th>\n",
       "      <td>-0.010856</td>\n",
       "      <td>842.0</td>\n",
       "      <td>16.255863</td>\n",
       "      <td>786.0</td>\n",
       "    </tr>\n",
       "    <tr>\n",
       "      <th>1</th>\n",
       "      <td>0.009973</td>\n",
       "      <td>158.0</td>\n",
       "      <td>22.837974</td>\n",
       "      <td>283.0</td>\n",
       "    </tr>\n",
       "    <tr>\n",
       "      <th>2</th>\n",
       "      <td>0.002830</td>\n",
       "      <td>366.0</td>\n",
       "      <td>23.590753</td>\n",
       "      <td>230.0</td>\n",
       "    </tr>\n",
       "    <tr>\n",
       "      <th>3</th>\n",
       "      <td>-0.015063</td>\n",
       "      <td>928.0</td>\n",
       "      <td>15.003096</td>\n",
       "      <td>857.0</td>\n",
       "    </tr>\n",
       "    <tr>\n",
       "      <th>4</th>\n",
       "      <td>-0.005786</td>\n",
       "      <td>713.0</td>\n",
       "      <td>22.374492</td>\n",
       "      <td>324.0</td>\n",
       "    </tr>\n",
       "    <tr>\n",
       "      <th>...</th>\n",
       "      <td>...</td>\n",
       "      <td>...</td>\n",
       "      <td>...</td>\n",
       "      <td>...</td>\n",
       "    </tr>\n",
       "    <tr>\n",
       "      <th>995</th>\n",
       "      <td>0.006348</td>\n",
       "      <td>257.0</td>\n",
       "      <td>24.228506</td>\n",
       "      <td>190.0</td>\n",
       "    </tr>\n",
       "    <tr>\n",
       "      <th>996</th>\n",
       "      <td>0.010699</td>\n",
       "      <td>134.0</td>\n",
       "      <td>14.400387</td>\n",
       "      <td>885.0</td>\n",
       "    </tr>\n",
       "    <tr>\n",
       "      <th>997</th>\n",
       "      <td>-0.009093</td>\n",
       "      <td>808.0</td>\n",
       "      <td>18.203516</td>\n",
       "      <td>653.0</td>\n",
       "    </tr>\n",
       "    <tr>\n",
       "      <th>998</th>\n",
       "      <td>0.004703</td>\n",
       "      <td>300.0</td>\n",
       "      <td>11.951525</td>\n",
       "      <td>948.0</td>\n",
       "    </tr>\n",
       "    <tr>\n",
       "      <th>999</th>\n",
       "      <td>-0.011114</td>\n",
       "      <td>852.0</td>\n",
       "      <td>20.067850</td>\n",
       "      <td>510.0</td>\n",
       "    </tr>\n",
       "  </tbody>\n",
       "</table>\n",
       "<p>1000 rows × 4 columns</p>\n",
       "</div>"
      ],
      "text/plain": [
       "      returns  returns_rank         pe  pe_rank\n",
       "0   -0.010856         842.0  16.255863    786.0\n",
       "1    0.009973         158.0  22.837974    283.0\n",
       "2    0.002830         366.0  23.590753    230.0\n",
       "3   -0.015063         928.0  15.003096    857.0\n",
       "4   -0.005786         713.0  22.374492    324.0\n",
       "..        ...           ...        ...      ...\n",
       "995  0.006348         257.0  24.228506    190.0\n",
       "996  0.010699         134.0  14.400387    885.0\n",
       "997 -0.009093         808.0  18.203516    653.0\n",
       "998  0.004703         300.0  11.951525    948.0\n",
       "999 -0.011114         852.0  20.067850    510.0\n",
       "\n",
       "[1000 rows x 4 columns]"
      ]
     },
     "execution_count": 7,
     "metadata": {},
     "output_type": "execute_result"
    }
   ],
   "source": [
    "# 声称股票收益率序列\n",
    "np.random.seed(123)\n",
    "returns = np.random.normal(0, 0.01, 1000)\n",
    "\n",
    "# 生成PE序列\n",
    "pe = np.random.normal(20, 5, 1000)\n",
    "\n",
    "# 使用 Pandas 实现计算 ===============================\n",
    "# 计算因子排名和股票收益率排名\n",
    "pe_rank = pd.Series(pe).rank()\n",
    "returns_rank = pd.Series(returns).rank()\n",
    "\n",
    "# 计算IC值\n",
    "ic = pe_rank.corr(returns_rank)\n",
    "print(\"IC值：\", ic)\n",
    "\n",
    "# 使用 Numpy 实现计算 ===============================\n",
    "# 计算因子排名和股票收益率排名\n",
    "pe_rank = np.argsort(np.argsort(-pe))+1\n",
    "returns_rank = np.argsort(np.argsort(-returns))+1\n",
    "\n",
    "# 计算IC值\n",
    "ic = np.corrcoef(pe_rank, returns_rank)[0,1]\n",
    "print(\"IC值：\", ic)\n",
    "\n",
    "pd.DataFrame(columns=['returns','returns_rank','pe','pe_rank'], data=np.vstack((returns, returns_rank, pe, pe_rank)).T)"
   ]
  },
  {
   "cell_type": "markdown",
   "id": "5a13cbcd",
   "metadata": {},
   "source": []
  }
 ],
 "metadata": {
  "kernelspec": {
   "display_name": "Python 3 (ipykernel)",
   "language": "python",
   "name": "python3"
  },
  "language_info": {
   "codemirror_mode": {
    "name": "ipython",
    "version": 3
   },
   "file_extension": ".py",
   "mimetype": "text/x-python",
   "name": "python",
   "nbconvert_exporter": "python",
   "pygments_lexer": "ipython3",
   "version": "3.9.13"
  }
 },
 "nbformat": 4,
 "nbformat_minor": 5
}
