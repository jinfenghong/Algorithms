{
 "cells": [
  {
   "cell_type": "markdown",
   "metadata": {},
   "source": [
    "# 深度优先和广度优先搜索\n",
    "\n",
    "## 二者的区别：\n",
    "- 在广度优先搜索中，有一个保存候补节点的__队列__，队列的性质就是**先进先出**，即先进入该队列的候补节点就先进行搜索。\n",
    "- 在深度优先搜索中，保存候补节点是__栈__，栈的性质就是**先进后出**，即最先进入该栈的候补节点就最后进行搜索。\n",
    "\n",
    "## 时间复杂度：\n",
    "- 在整个图中寻找终点，就意味着将沿每条边前行，因此运行时间至少为O(边数)。\n",
    "- 我们还使用了一个队列，其中包含要检查的每个节点，将一个节点添加到队列需要的时间是固定的，即为O(1)，因此对每个节点都这样做需要的总时间为O(节点数)。\n",
    "- 所以广度（深度）优先搜索的运行时间为O(节点数 + 边数)，通常写作O(V + E)，其中V为节点(vertice)数，E(edge)为边数\n",
    "\n",
    "## 案例剖析：\n",
    "- 下面的案例展示了广度优先搜索和深度优先搜索的区别: 1)选择哪一个候补节点作为下一个节点的基准不同 2) popleft() 和 pop()"
   ]
  },
  {
   "cell_type": "code",
   "execution_count": 2,
   "metadata": {},
   "outputs": [],
   "source": [
    "# E <- B <- A -> F -> H\n",
    "#      |    |    |\n",
    "#      V    V    V  \n",
    "#      C <- D    G     \n",
    "\n",
    "graph = {}\n",
    "graph[\"A\"] = [\"B\", \"D\", \"F\"]\n",
    "graph[\"B\"] = [\"C\", \"E\"]\n",
    "graph[\"D\"] = [\"C\"]\n",
    "graph[\"F\"] = [\"G\", \"H\"]\n",
    "graph[\"C\"] = []\n",
    "graph[\"E\"] = []\n",
    "graph[\"G\"] = []\n",
    "graph[\"H\"] = []  "
   ]
  },
  {
   "cell_type": "markdown",
   "metadata": {},
   "source": [
    "### 广度优先搜索"
   ]
  },
  {
   "cell_type": "code",
   "execution_count": 13,
   "metadata": {},
   "outputs": [
    {
     "name": "stdout",
     "output_type": "stream",
     "text": [
      "B D F C E C G \n",
      "find the destination!\n",
      "True\n"
     ]
    }
   ],
   "source": [
    "from collections import deque\n",
    "\n",
    "def search(start_node):\n",
    "    \"\"\"\n",
    "    我们指定 \"A\" 为起点，\"G\" 为终点。\n",
    "    \"\"\"\n",
    "    global graph\n",
    "    search_queue = deque() # 创建一个节点列表\n",
    "    search_queue += graph[start_node] # 表示将\"A\"的相邻节点都添加到节点列表中\n",
    "    searched = []  # 这个数组用于记录检查过的节点\n",
    "    \n",
    "    while search_queue:  # 只要节点列表不为空\n",
    "        node = search_queue.popleft()  # 取出节点列表中最左边的节点\n",
    "        print(node, end=' ')  # 打印出当前节点\n",
    "        if not node in searched:  # 如果这个节点没检查过\n",
    "            if node == 'G':  # 检查这个节点是否为终点\"G\"\n",
    "                print(\"\\nfind the destination!\")\n",
    "                return True\n",
    "            else:\n",
    "                search_queue += graph[node]  # 将此节点的相邻节点都添加到节点列表中\n",
    "                searched.append(node)  # 将这个节点标记为检查过\n",
    "                \n",
    "    # 如果节点列表为空仍没找到终点，则返回False\n",
    "    return False\n",
    "\n",
    "print(search(\"A\"))"
   ]
  },
  {
   "cell_type": "markdown",
   "metadata": {},
   "source": [
    "### 深度优先搜索"
   ]
  },
  {
   "cell_type": "code",
   "execution_count": 3,
   "metadata": {},
   "outputs": [
    {
     "name": "stdout",
     "output_type": "stream",
     "text": [
      "deque(['B', 'D', 'F'])\n",
      "F H G D C B E \n",
      "find the destination!\n",
      "True\n"
     ]
    }
   ],
   "source": [
    "from collections import deque\n",
    "\n",
    "def search(start_node):\n",
    "    \"\"\"\n",
    "    我们指定 \"A\" 为起点，\"B\" 为终点。\n",
    "    \"\"\"\n",
    "    global graph\n",
    "    search_queue = deque() # 创建一个节点列表\n",
    "    search_queue += graph[start_node] # 表示将\"A\"的相邻节点都添加到节点列表中\n",
    "    print(search_queue)\n",
    "    searched = []  # 这个数组用于记录检查过的节点\n",
    "    \n",
    "    while search_queue:  # 只要节点列表不为空\n",
    "        node = search_queue.pop()  # 取出节点列表中最右边的节点\n",
    "        print(node, end=' ')  # 打印出当前节点\n",
    "        if not node in searched:  # 如果这个节点没检查过\n",
    "            if node == 'E':  # 检查这个节点是否为终点\"B\"\n",
    "                print(\"\\nfind the destination!\")\n",
    "                return True\n",
    "            else:\n",
    "                search_queue += graph[node]  # 将此节点的相邻节点都添加到节点列表中\n",
    "                searched.append(node)  # 将这个节点标记为检查过\n",
    "                \n",
    "    # 如果节点列表为空仍没找到终点，则返回False\n",
    "    return False\n",
    "\n",
    "print(search(\"A\"))"
   ]
  },
  {
   "cell_type": "markdown",
   "metadata": {},
   "source": [
    "## 广度优先搜索应用之最短路径\n",
    "\n",
    "- 在广度优先搜索的执行过程中，搜索范围从起点开始逐渐向外延伸，所以不但可以判断两个节点之间是否有路径，还可以找出这两个节点的最短路径，即可以解决最短路径问题。\n",
    "\n",
    "- 广度优先搜索可以用于找到两个节点的最短路径问题，这里的最短路径其实是针对于非加权图，寻找段数最少的路径。但是对于加权图，段数最少的路径并不代表路径中的权重总和也最小。\n",
    "\n",
    "- 对于加权图，计算最短路径可以如下三个算法：\n",
    " - 贝尔曼-福特算法（(Bellman-Ford）\n",
    " - 狄克斯特拉算法（Dijkstra）\n",
    " - A* 算法（A-Star）"
   ]
  },
  {
   "cell_type": "markdown",
   "metadata": {},
   "source": [
    "# Binary Tree 二叉树\n",
    "\n",
    "## 深度优先遍历\n",
    "### 3种方法和区别：\n",
    "- pre-order traversal, in-order traversal, post-order traversal\n",
    "- 区别在于：在访问一棵树的时候，对于根结点的访问是在前，在中，还是在后的顺序\n",
    "- 无论哪一种遍历，都要：\n",
    " - 把一棵树拆成左子树、右子树、和根三个部分\n",
    " - 再把左右子树分别作为两棵树划分左右子树和根，如此层层深入下去\n",
    " - 直到一颗子树只有一个节点为止\n"
   ]
  },
  {
   "cell_type": "markdown",
   "metadata": {},
   "source": [
    "### 造树"
   ]
  },
  {
   "cell_type": "code",
   "execution_count": 7,
   "metadata": {},
   "outputs": [],
   "source": [
    "class TreeNode:\n",
    "    def __init__(self, x):\n",
    "        self.val = x\n",
    "        self.left = None\n",
    "        self.right = None\n",
    "\n",
    "def listCreatTree(root, llist, i):\n",
    "    if i < len(llist):\n",
    "        if llist[i] == '#' or llist[i] is None:\n",
    "            return None  ###这里的return很重要\n",
    "        else:\n",
    "            root = TreeNode(llist[i])\n",
    "            # 往左递推\n",
    "            root.left = listCreatTree(root.left, llist, 2 * i + 1)  # 从根开始一直到最左，直至为空，\n",
    "            # 往右回溯\n",
    "            root.right = listCreatTree(root.right, llist, 2 * i + 2)  # 再返回上一个根，回溯右，\n",
    "            # 再返回根'\n",
    "            return root  ###这里的return很重要\n",
    "    return root"
   ]
  },
  {
   "cell_type": "markdown",
   "metadata": {},
   "source": [
    "     1\n",
    "    / \\\n",
    "   2   3\n",
    "    \\ / \\\n",
    "    4 5 6"
   ]
  },
  {
   "cell_type": "code",
   "execution_count": 11,
   "metadata": {},
   "outputs": [
    {
     "data": {
      "text/plain": [
       "'4'"
      ]
     },
     "execution_count": 11,
     "metadata": {},
     "output_type": "execute_result"
    }
   ],
   "source": [
    "lst = ['1', '2', '3', None, '4', '5', '6']\n",
    "root = listCreatTree(None, lst, 0)\n",
    "\n",
    "root.left.right.val"
   ]
  },
  {
   "cell_type": "code",
   "execution_count": null,
   "metadata": {},
   "outputs": [],
   "source": [
    "# 先序遍历二叉树\n",
    "def preOrderBT(root, res):\n",
    "    if not root:\n",
    "        return\n",
    "    print(root.val, end='\\t')\n",
    "    res.append(root.val)\n",
    "    preOrderBT(root.left, res)\n",
    "    preOrderBT(root.right, res)\n",
    "    \n",
    "# 中序遍历二叉树\n",
    "def midOrderBT(root, res):\n",
    "    if not root:\n",
    "        return \n",
    "    midOrderBT(root.left, res)\n",
    "    print(root.val, end=\"\\t\")\n",
    "    res.append(root.val)\n",
    "    midOrderBT(root.right, res)\n",
    "\n",
    "# 后序遍历二叉树\n",
    "def postOrderBT(root, res):\n",
    "    if not root:\n",
    "        return \n",
    "    postOrderBT(root.left, res)\n",
    "    postOrderBT(root.right, res)\n",
    "    print(root.val, end=\"\\t\")\n",
    "    res.append(root.val)"
   ]
  },
  {
   "cell_type": "code",
   "execution_count": 2,
   "metadata": {},
   "outputs": [
    {
     "name": "stdout",
     "output_type": "stream",
     "text": [
      "1\t2\t4\t3\t5\t6\t\n",
      "pre-order ['1', '2', '4', '3', '5', '6']\n",
      "4\t2\t5\t6\t3\t1\t\n",
      "post-order ['4', '2', '5', '6', '3', '1']\n",
      "2\t4\t1\t5\t3\t6\t\n",
      "in-order ['2', '4', '1', '5', '3', '6']\n"
     ]
    }
   ],
   "source": [
    "ret = []\n",
    "preOrderBT(root, ret)\n",
    "print('\\npre-order', ret)\n",
    "\n",
    "ret = []\n",
    "postOrderBT(root, ret)\n",
    "print('\\npost-order', ret)\n",
    "\n",
    "ret = []\n",
    "midOrderBT(root, ret)\n",
    "print('\\nin-order', ret)"
   ]
  },
  {
   "cell_type": "markdown",
   "metadata": {},
   "source": [
    "### In-order traversal \n",
    "- https://www.cnblogs.com/grandyang/p/4297300.html\n",
    "\n",
    "- 二叉树的中序遍历顺序为左-根-右，可以有递归和非递归来解，其中非递归解法又分为两种，一种是使用栈来接，另一种不需要使用栈。\n",
    " - 递归方法: 对左子节点调用递归函数，根结点访问值，右子节点再调用递归函数：上面简单的案例运用的就是递归了\n",
    " - 非递归使用栈的解法：思路是从根节点开始，先将根节点压入栈，然后再将其所有左子结点压入栈，然后取出栈顶节点，保存节点值，再将当前指针移到其右子节点上，若存在右子节点，则在下次循环时又可将其所有左子结点压入栈中。这样就保证了访问顺序为左-根-右。"
   ]
  },
  {
   "cell_type": "code",
   "execution_count": 4,
   "metadata": {
    "scrolled": true
   },
   "outputs": [
    {
     "name": "stdout",
     "output_type": "stream",
     "text": [
      "2\t4\t1\t5\t3\t6\t"
     ]
    },
    {
     "data": {
      "text/plain": [
       "['2', '4', '1', '5', '3', '6']"
      ]
     },
     "execution_count": 4,
     "metadata": {},
     "output_type": "execute_result"
    }
   ],
   "source": [
    "def inorder(root):\n",
    "    lst = []\n",
    "    res = []\n",
    "    p = root\n",
    "    while p or len(lst)>0:\n",
    "        while(p):\n",
    "            lst.append(p)\n",
    "            p = p.left\n",
    "        p = lst.pop()\n",
    "        res.append(p.val)\n",
    "        print(p.val, end='\\t')\n",
    "        p = p.right\n",
    "    return res\n",
    "\n",
    "inorder(root)"
   ]
  },
  {
   "cell_type": "code",
   "execution_count": 13,
   "metadata": {},
   "outputs": [
    {
     "name": "stdout",
     "output_type": "stream",
     "text": [
      "2\t4\t1\t5\t3\t6\t"
     ]
    },
    {
     "data": {
      "text/plain": [
       "['2', '4', '1', '5', '3', '6']"
      ]
     },
     "execution_count": 13,
     "metadata": {},
     "output_type": "execute_result"
    }
   ],
   "source": [
    "# 该方法是将内层while语句改成 if-else\n",
    "# 对比思路不难发现，其实是对于recursion的改写，两者都是强调单边深度造stack\n",
    "def inorder(root):\n",
    "    lst = []\n",
    "    res = []\n",
    "    p = root\n",
    "    while p or len(lst)>0:\n",
    "        if(p):\n",
    "            lst.append(p)\n",
    "            p = p.left\n",
    "        else:\n",
    "            p = lst.pop()\n",
    "            res.append(p.val)\n",
    "            print(p.val, end='\\t')\n",
    "            p = p.right\n",
    "    return res\n",
    "\n",
    "inorder(root)"
   ]
  },
  {
   "cell_type": "markdown",
   "metadata": {},
   "source": [
    " - 非递归不使用栈的方法 morris traversal：\n",
    " -- 需要了解线索二叉树：treaded binary tree 实际上是把所有原本为空的右子节点指向了中序遍历顺序之后的那个节点，把所有原本为空的左子节点都指向了中序遍历之前的那个节点，具体例子可以点击这里。那么这道题跟这个线索二叉树又有啥关系呢？由于既不能用递归，又不能用栈，那如何保证访问顺序是中序遍历的左-根-右呢。原来需要构建一个线索二叉树，需要将所有为空的右子节点指向中序遍历的下一个节点，这样中序遍历完左子结点后，就能顺利的回到其根节点继续遍历了\n",
    "\n",
    "- 具体算法如下：\n",
    "\n",
    "1. 初始化指针 cur 指向 root\n",
    "\n",
    "2. 当 cur 不为空时\n",
    "\n",
    "　 - 如果 cur 没有左子结点\n",
    "\n",
    "　     a) 打印出 cur 的值\n",
    "\n",
    "　　  b) 将 cur 指针指向其右子节点\n",
    "\n",
    "　 - 反之\n",
    "\n",
    "　    将 pre 指针指向 cur 的左子树中的最右子节点　\n",
    "\n",
    "　　　  * 若 pre 不存在右子节点\n",
    "\n",
    "　　　       a) 将其右子节点指回 cur\n",
    "\n",
    "　　　　    b) cur 指向其左子节点\n",
    "\n",
    "　　　  * 反之\n",
    "\n",
    "　　　　　 a) 将 pre 的右子节点置空\n",
    "\n",
    "　　　　　 b) 打印 cur 的值\n",
    "\n",
    "　　　　　 c) 将 cur 指针指向其右子节点"
   ]
  },
  {
   "cell_type": "code",
   "execution_count": null,
   "metadata": {},
   "outputs": [],
   "source": [
    "class Solution {\n",
    "public:\n",
    "    vector<int> inorderTraversal(TreeNode *root) {\n",
    "        vector<int> res;\n",
    "        if (!root) return res;\n",
    "        TreeNode *cur, *pre;\n",
    "        cur = root;\n",
    "        while (cur) {\n",
    "            if (!cur->left) {\n",
    "                res.push_back(cur->val);\n",
    "                cur = cur->right;\n",
    "            } else {\n",
    "                pre = cur->left;\n",
    "                while (pre->right && pre->right != cur) pre = pre->right;\n",
    "                if (!pre->right) {\n",
    "                    pre->right = cur;\n",
    "                    cur = cur->left;\n",
    "                } else {\n",
    "                    pre->right = NULL;\n",
    "                    res.push_back(cur->val);\n",
    "                    cur = cur->right;\n",
    "                }\n",
    "            }\n",
    "        }\n",
    "        return res;\n",
    "    }\n",
    "};"
   ]
  },
  {
   "cell_type": "markdown",
   "metadata": {},
   "source": [
    "### Pre-order Traversal\n",
    "- 用非递归的方法，这就要用到stack来辅助运算。由于先序遍历的顺序是\"根-左-右\"：\n",
    " - 算法一：\n",
    "    1. 把根节点 push 到栈中\n",
    "\n",
    "    2. 循环检测栈是否为空，若不空，则取出栈顶元素，保存其值，然后看其右子节点是否存在，若存在则 push 到栈中。再看其左子节点，若存在，则 push 到栈中。\n",
    " - 算法二：使用了一个辅助结点p，这种写法其实可以看作是一个模版，对应的还有中序和后序的模版写法，形式很统一，方便于记忆。\n",
    "    1. 辅助结点p初始化为根结点，while 循环的条件是栈不为空或者辅助结点p不为空，\n",
    "    2. 在循环中首先判断如果辅助结点p存在，那么先将p加入栈中，然后将p的结点值加入结果 res 中，此时p指向其左子结点。\n",
    "    3. 否则如果p不存在的话，表明没有左子结点，取出栈顶结点，将p指向栈顶结点的右子结点"
   ]
  },
  {
   "cell_type": "code",
   "execution_count": 6,
   "metadata": {},
   "outputs": [
    {
     "data": {
      "text/plain": [
       "['1', '2', '4', '3', '5', '6']"
      ]
     },
     "execution_count": 6,
     "metadata": {},
     "output_type": "execute_result"
    }
   ],
   "source": [
    "# 该思路和下面以及recursion不同在于直接对右左结点同一时间加入到stack\n",
    "def preorder(root):\n",
    "    lst = [root]\n",
    "    res = []\n",
    "    while len(lst)>0:\n",
    "        p = lst.pop()\n",
    "        res.append(p.val)\n",
    "        if p.right:\n",
    "            lst.append(p.right)\n",
    "        if p.left:\n",
    "            lst.append(p.left)\n",
    "    return res\n",
    "\n",
    "preorder(root)"
   ]
  },
  {
   "cell_type": "code",
   "execution_count": 23,
   "metadata": {
    "scrolled": true
   },
   "outputs": [
    {
     "data": {
      "text/plain": [
       "['1', '2', '4', '3', '5', '6']"
      ]
     },
     "execution_count": 23,
     "metadata": {},
     "output_type": "execute_result"
    }
   ],
   "source": [
    "# 对比思路不难发现，其实是对于recursion的改写，两者都是强调单边深度造stack\n",
    "def preorder(root):\n",
    "    lst = []\n",
    "    res = []\n",
    "    p = root\n",
    "    while p or len(lst)>0:\n",
    "        if(p):\n",
    "            lst.append(p)\n",
    "            res.append(p.val)\n",
    "            p = p.left\n",
    "        else:\n",
    "            p = lst.pop()\n",
    "            p = p.right\n",
    "            \n",
    "    return res\n",
    "\n",
    "preorder(root)"
   ]
  },
  {
   "cell_type": "markdown",
   "metadata": {},
   "source": [
    "### Post-order Traversal\n",
    "- 后序遍历其实可以根据 pre-order traverl进行改变：前序遍历是'根左右'，将其改为'根右左'并反转结果得到'左右根'\n",
    " - 前两种方法就是根据上面 pre-order进行改写的"
   ]
  },
  {
   "cell_type": "code",
   "execution_count": 5,
   "metadata": {},
   "outputs": [
    {
     "data": {
      "text/plain": [
       "['4', '2', '5', '6', '3', '1']"
      ]
     },
     "execution_count": 5,
     "metadata": {},
     "output_type": "execute_result"
    }
   ],
   "source": [
    "def postorder(root):\n",
    "    lst = [root]\n",
    "    res = []\n",
    "    while len(lst)>0:\n",
    "        p = lst.pop()\n",
    "#         res.insert(0,p.val)\n",
    "        res.append(p.val)\n",
    "        if p.left:\n",
    "            lst.append(p.left)\n",
    "        if p.right:\n",
    "            lst.append(p.right)\n",
    "    return res[::-1]\n",
    "\n",
    "postorder(root)"
   ]
  },
  {
   "cell_type": "code",
   "execution_count": 8,
   "metadata": {},
   "outputs": [
    {
     "data": {
      "text/plain": [
       "['4', '2', '5', '6', '3', '1']"
      ]
     },
     "execution_count": 8,
     "metadata": {},
     "output_type": "execute_result"
    }
   ],
   "source": [
    "def postorder(root):\n",
    "    lst = []\n",
    "    res = []\n",
    "    p = root\n",
    "    while p or len(lst)>0:\n",
    "        if(p):\n",
    "            lst.append(p)\n",
    "            res.append(p.val)\n",
    "#             res.insert(0, p.val)\n",
    "            p = p.right\n",
    "        else:\n",
    "            p = lst.pop()\n",
    "            p = p.left\n",
    "            \n",
    "    return res[::-1]\n",
    "\n",
    "postorder(root)"
   ]
  },
  {
   "cell_type": "markdown",
   "metadata": {},
   "source": [
    "经典题目，求二叉树的后序遍历的非递归方法，跟前序，中序，层序一样都需要用到栈，后序的顺序是左-右-根，所以当一个结点值被取出来时，它的左右子结点要么不存在，要么已经被访问过了。先将根结点压入栈，然后定义一个辅助结点 head，while 循环的条件是栈不为空，在循环中，首先将栈顶结点t取出来，如果栈顶结点没有左右子结点，或者其左子结点是 head，或者其右子结点是 head 的情况下。将栈顶结点值加入结果 res 中，并将栈顶元素移出栈，然后将 head 指向栈顶元素；否则的话就看如果右子结点不为空，将其加入栈，再看左子结点不为空的话，就加入栈，注意这里先右后左的顺序是因为栈的后入先出的特点，可以使得左子结点先被处理。下面来看为什么是这三个条件呢，首先如果栈顶元素如果没有左右子结点的话，说明其是叶结点，而且入栈顺序保证了左子结点先被处理，所以此时的结点值就可以直接加入结果 res 了，然后移出栈，将 head 指向这个叶结点，这样的话 head 每次就是指向前一个处理过并且加入结果 res 的结点，那么如果栈顶结点的左子结点或者右子结点是 head 的话，说明其子结点已经加入结果 res 了，那么就可以处理当前结点了。\n",
    "\n",
    "看到这里，大家可能对 head 的作用，以及为何要初始化为 root，还不是很清楚，这里再解释一下。head 是指向上一个被遍历完成的结点，由于后序遍历的顺序是左-右-根，所以一定会一直将结点压入栈，一直到把最左子结点（或是最左子结点的最右子结点）压入栈后，开始进行处理。一旦开始处理了，head 就会被重新赋值。所以 head 初始化值并没有太大的影响，唯一要注意的是不能初始化为空，因为在判断是否打印出当前结点时除了判断是否是叶结点，还要看 head 是否指向其左右子结点，如果 head 指向左子结点，那么右子结点一定为空，因为入栈顺序是根-右-左，不存在右子结点还没处理，就直接去处理根结点了的情况。若 head 指向右子结点，则是正常的左-右-根的处理顺序。那么回过头来在看，若 head 初始化为空，且此时正好左子结点不存在，那么在压入根结点时，head 和左子结点相等就成立了，此时就直接打印根结点了，明显是错的。所以 head 只要不初始化为空，一切都好说，甚至可以新建一个结点也没问题。将 head 初始化为 root，也可以，就算只有一个 root 结点，那么在判定叶结点时就将 root 打印了，然后就跳出 while 循环了，也不会出错"
   ]
  },
  {
   "cell_type": "code",
   "execution_count": 45,
   "metadata": {},
   "outputs": [
    {
     "data": {
      "text/plain": [
       "['1']"
      ]
     },
     "execution_count": 45,
     "metadata": {},
     "output_type": "execute_result"
    }
   ],
   "source": [
    "def postorder(root):\n",
    "    lst = [root]\n",
    "    res = []\n",
    "    head = root\n",
    "    while(len(lst) > 0):\n",
    "        p = lst[-1]\n",
    "        if (not p.right and not p.left) or p.left == head or p.right == head:\n",
    "            res.append(p.val)\n",
    "            lst.pop()\n",
    "            head = p\n",
    "        else:\n",
    "            if p.right:\n",
    "                lst.append(p.right)\n",
    "            if p.left:\n",
    "                lst.append(p.left)\n",
    "    return res\n",
    "\n",
    "postorder(root)"
   ]
  },
  {
   "cell_type": "code",
   "execution_count": 44,
   "metadata": {},
   "outputs": [
    {
     "data": {
      "text/plain": [
       "['4', '2', '5', '6', '3', '1']"
      ]
     },
     "execution_count": 44,
     "metadata": {},
     "output_type": "execute_result"
    }
   ],
   "source": [
    "# 我方法在于通过判断结点左右根为None做为判断该节点是否\n",
    "# 被处理过或者是否是叶子结点，若都为None就加入到结果集\n",
    "# 同时要将该节点的父节点指向 None，其实逻辑和答案是一样的\n",
    "# 该方法有个弊端在于，会修改已经建立好的树\n",
    "\n",
    "def postorder(root):\n",
    "    lst = [root]\n",
    "    res = []\n",
    "    while(len(lst) > 0):\n",
    "        p = lst[-1]\n",
    "        if p.right:\n",
    "            lst.append(p.right)\n",
    "        if p.left:\n",
    "            lst.append(p.left)\n",
    "        if not p.right and not p.left:\n",
    "            res.append(p.val)\n",
    "            lst.pop()\n",
    "        \n",
    "            if len(lst) > 0:\n",
    "                if lst[-1].left == p:\n",
    "                    lst[-1].left = None\n",
    "                elif lst[-1].right == p:\n",
    "                    lst[-1].right = None\n",
    "                else:\n",
    "                    # 前面的判断如果都是否，说明，lst[-1]是lst[-2]根结点的右节点\n",
    "                    # 相对的 p 就是 lst[-2]的左节点\n",
    "                    lst[-2].left = None\n",
    "    return res\n",
    "\n",
    "lst = ['1', '2', '3', None, '4', '5', '6']\n",
    "root = listCreatTree(None, lst, 0)\n",
    "postorder(root)"
   ]
  },
  {
   "cell_type": "code",
   "execution_count": null,
   "metadata": {},
   "outputs": [],
   "source": []
  }
 ],
 "metadata": {
  "kernelspec": {
   "display_name": "Python 3 (ipykernel)",
   "language": "python",
   "name": "python3"
  },
  "language_info": {
   "codemirror_mode": {
    "name": "ipython",
    "version": 3
   },
   "file_extension": ".py",
   "mimetype": "text/x-python",
   "name": "python",
   "nbconvert_exporter": "python",
   "pygments_lexer": "ipython3",
   "version": "3.9.13"
  }
 },
 "nbformat": 4,
 "nbformat_minor": 2
}
