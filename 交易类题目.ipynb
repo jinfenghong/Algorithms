{
 "cells": [
  {
   "cell_type": "markdown",
   "id": "048c3e67",
   "metadata": {},
   "source": [
    "## Best Time to Buy and Sell Stock\n",
    "- https://www.cnblogs.com/grandyang/p/4280131.html\n",
    "- 121 买卖股票的最佳时间\n",
    "- Say you have an array for which the ith element is the price of a given stock on day i. If you were only permitted to complete at most one transaction (ie, buy one and sell one share of the stock), design an algorithm to find the maximum profit."
   ]
  },
  {
   "cell_type": "code",
   "execution_count": 3,
   "id": "92a7677d",
   "metadata": {},
   "outputs": [],
   "source": [
    "def maxProfit(prices):\n",
    "    res = 0\n",
    "    buy = prices[0]\n",
    "    \n",
    "    for price in prices:\n",
    "        buy = min(buy, price)\n",
    "        res = max(res, price - buy)\n",
    "    \n",
    "    return res"
   ]
  },
  {
   "cell_type": "code",
   "execution_count": 4,
   "id": "181d65c0",
   "metadata": {},
   "outputs": [
    {
     "data": {
      "text/plain": [
       "5"
      ]
     },
     "execution_count": 4,
     "metadata": {},
     "output_type": "execute_result"
    }
   ],
   "source": [
    "maxProfit([7,1,5,3,6,4])"
   ]
  },
  {
   "cell_type": "markdown",
   "id": "247e23b1",
   "metadata": {},
   "source": [
    "## Best Time to Buy and Sell Stock II \n",
    "- https://www.cnblogs.com/grandyang/p/4280803.html\n",
    "- 122 买股票的最佳时间之二\n",
    "- Say you have an array for which the ith element is the price of a given stock on day i.Design an algorithm to find the maximum profit. You may complete as many transactions as you like (ie, buy one and sell one share of the stock multiple times). However, you may not engage in multiple transactions at the same time (ie, you must sell the stock before you buy again)."
   ]
  },
  {
   "cell_type": "code",
   "execution_count": 12,
   "id": "c9512c5d",
   "metadata": {},
   "outputs": [],
   "source": [
    "def maxProfit(prices):\n",
    "    res = 0\n",
    "    n = len(prices)\n",
    "    for i in range(len(prices)-1):\n",
    "        if prices[i] < prices[i + 1]:\n",
    "            res += prices[i + 1] - prices[i]\n",
    "\n",
    "    return res"
   ]
  },
  {
   "cell_type": "code",
   "execution_count": 13,
   "id": "92ea0540",
   "metadata": {},
   "outputs": [
    {
     "data": {
      "text/plain": [
       "10"
      ]
     },
     "execution_count": 13,
     "metadata": {},
     "output_type": "execute_result"
    }
   ],
   "source": [
    "maxProfit([7,1,5,3,6,1,4])"
   ]
  },
  {
   "cell_type": "markdown",
   "id": "a32751ff",
   "metadata": {},
   "source": [
    "## Best Time to Buy and Sell Stock III \n",
    "- https://www.cnblogs.com/grandyang/p/4281975.html\n",
    "- 123 买股票的最佳时间之三\n",
    "- Say you have an array for which the ith element is the price of a given stock on day i.Design an algorithm to find the maximum profit. You may complete at most two transactions. Note: You may not engage in multiple transactions at the same time (i.e., you must sell the stock before you buy again)."
   ]
  },
  {
   "cell_type": "code",
   "execution_count": null,
   "id": "bfe0bc4c",
   "metadata": {},
   "outputs": [],
   "source": []
  }
 ],
 "metadata": {
  "kernelspec": {
   "display_name": "Python 3 (ipykernel)",
   "language": "python",
   "name": "python3"
  },
  "language_info": {
   "codemirror_mode": {
    "name": "ipython",
    "version": 3
   },
   "file_extension": ".py",
   "mimetype": "text/x-python",
   "name": "python",
   "nbconvert_exporter": "python",
   "pygments_lexer": "ipython3",
   "version": "3.9.13"
  }
 },
 "nbformat": 4,
 "nbformat_minor": 5
}
