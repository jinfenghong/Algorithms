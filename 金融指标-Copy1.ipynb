{
 "cells": [
  {
   "cell_type": "code",
   "execution_count": 1,
   "id": "9a582aad",
   "metadata": {},
   "outputs": [],
   "source": [
    "import numpy as np\n",
    "import pandas as pd\n",
    "import scipy.stats as st"
   ]
  },
  {
   "cell_type": "markdown",
   "id": "f372364a",
   "metadata": {},
   "source": [
    "## 夏普比率"
   ]
  },
  {
   "cell_type": "code",
   "execution_count": 3,
   "id": "beefed4b",
   "metadata": {},
   "outputs": [
    {
     "name": "stdout",
     "output_type": "stream",
     "text": [
      "2.5824610244740964\n"
     ]
    }
   ],
   "source": [
    "data = np.random.normal(size=100)\n",
    "\n",
    "rf = 0.03\n",
    "\n",
    "# 年化夏普比率\n",
    "sharpe = (data.mean()-rf) / data.std(ddof=1) * np.sqrt(252)\n",
    "\n",
    "print(sharpe)"
   ]
  },
  {
   "cell_type": "markdown",
   "id": "fcd1c5a0",
   "metadata": {},
   "source": [
    "## 最大回撤"
   ]
  },
  {
   "cell_type": "code",
   "execution_count": 5,
   "id": "312ebaa3",
   "metadata": {},
   "outputs": [
    {
     "name": "stdout",
     "output_type": "stream",
     "text": [
      "-0.8865163316678305 -0.8865163316678305\n"
     ]
    }
   ],
   "source": [
    "data = np.random.lognormal(0, 0.5, 100)\n",
    "\n",
    "# 找到区间截至每日的最大复权单位净值\n",
    "acc_max = np.maximum.accumulate(data)\n",
    "\n",
    "# 每日当前回撤\n",
    "dd = (data - acc_max) / acc_max\n",
    "\n",
    "# 区间最大回撤结束位置\n",
    "j = np.argmin(dd)\n",
    "\n",
    "# 区间最大回撤开始位置\n",
    "i = np.argmax(data[:j]) if j != 0 else 0\n",
    "\n",
    "max_dd = (data[j] - data[i]) / data[i]\n",
    "\n",
    "print(max_dd, dd.min())"
   ]
  },
  {
   "cell_type": "markdown",
   "id": "6439c608",
   "metadata": {},
   "source": [
    "## 年化卡玛比率 Calmar Ratio"
   ]
  },
  {
   "cell_type": "code",
   "execution_count": 22,
   "id": "9a8ed9e4",
   "metadata": {},
   "outputs": [
    {
     "name": "stdout",
     "output_type": "stream",
     "text": [
      "-0.10231682630000935\n",
      "-0.10231682630000317\n"
     ]
    }
   ],
   "source": [
    "# method1: 已知价格求解\n",
    "r = data[-1] / data[0]  # 注意这里不是收益率，收益率 = r - 1\n",
    "\n",
    "cm = (np.power(r, 250/len(data)) - 1) / abs(max_dd)\n",
    "print(cm)\n",
    "\n",
    "# method2: 通过收益率计算\n",
    "ret = data[1:]/data[:-1] - 1  # ret.size == 99, data.size == 100\n",
    "cm = (np.power(np.cumprod(ret+1)[-1], 250/len(data)) - 1) / abs(max_dd)\n",
    "print(cm)"
   ]
  },
  {
   "cell_type": "markdown",
   "id": "cbeec594",
   "metadata": {},
   "source": [
    "## Beta 和 Alpha"
   ]
  },
  {
   "cell_type": "code",
   "execution_count": 24,
   "id": "c6e4cf3d",
   "metadata": {},
   "outputs": [],
   "source": [
    "bmk = np.random.normal(size=100)\n",
    "port = np.random.normal(size=100)"
   ]
  },
  {
   "cell_type": "code",
   "execution_count": 25,
   "id": "431a2ad4",
   "metadata": {},
   "outputs": [
    {
     "name": "stdout",
     "output_type": "stream",
     "text": [
      "[[ 1.10567626 -0.06244243]\n",
      " [-0.06244243  1.01178906]]\n",
      "-0.056474426404903764 0.08815429469556636\n"
     ]
    }
   ],
   "source": [
    "# 方法一：直接公式计算\n",
    "\n",
    "# covariance\n",
    "cov = np.cov(bmk, port)\n",
    "\n",
    "beta = cov[0][1] / cov[0][0]\n",
    "alpha = port.mean() - beta * bmk.mean()\n",
    "\n",
    "print(cov)\n",
    "print(beta, alpha)"
   ]
  },
  {
   "cell_type": "code",
   "execution_count": 38,
   "id": "aa1f0973",
   "metadata": {},
   "outputs": [
    {
     "name": "stdout",
     "output_type": "stream",
     "text": [
      "-0.05647442640490378 0.08815429469556636\n"
     ]
    }
   ],
   "source": [
    "# 方法二：调包\n",
    "from sklearn import linear_model\n",
    "\n",
    "# 建立线性回归模型\n",
    "regr = linear_model.LinearRegression()\n",
    "# 拟合\n",
    "regr.fit(bmk.reshape(-1,1), port.reshape(-1,1))\n",
    "# 不难得到直线的斜率、截距\n",
    "beta, alpha = regr.coef_[0][0], regr.intercept_[0]\n",
    "\n",
    "print(beta, alpha)"
   ]
  },
  {
   "cell_type": "markdown",
   "id": "5e2d4155",
   "metadata": {},
   "source": [
    "## IC值\n",
    "\n",
    "- 用 Numpy 方法排序：\n",
    "在计算因子排名时，我们需要行因子值按照大小（从大到小）进行排序，并将排序后的结果转换为排名。在numpy库中，我们可以使用argsort函数来实现排序和排名的转换。\n",
    "\n",
    "具体来说，argsort函数会返回原数组中每个元素在排序后的数组中的下标，从小到大排列。例如，对于数组[3,1,4,2]，argsort函数返回的结果为[1,3,0,2]，表示原数组中第二个元素（下标为1）在排序后的数组中排在第一位，第四个元素（下标为3）在排序后的数组中排在第二位，以此类推。\n",
    "\n",
    "在计算因子排名时，我们需要将因子值从大到小排序，因此需要对原数组进行取反操作（即，-pe)，然后使用argsort函数进行排序。由于argsort函数返回的是下标，因此我们需要再次使用argsort将下标转换为排名。具体来说，我们可以使用argsort对排序后的下标进行排序，然后将排序后的结果加1，即可得到排名。"
   ]
  },
  {
   "cell_type": "code",
   "execution_count": 3,
   "id": "6e64f0c1",
   "metadata": {},
   "outputs": [
    {
     "data": {
      "text/plain": [
       "SpearmanrResult(correlation=-0.02900857700857701, pvalue=0.3594690521683749)"
      ]
     },
     "execution_count": 3,
     "metadata": {},
     "output_type": "execute_result"
    }
   ],
   "source": [
    "st.spearmanr(pd.Series(pe), pd.Series(returns))"
   ]
  },
  {
   "cell_type": "code",
   "execution_count": 2,
   "id": "8c0979c4",
   "metadata": {},
   "outputs": [
    {
     "name": "stdout",
     "output_type": "stream",
     "text": [
      "IC值： -0.02900857700857701\n",
      "IC值： -0.02900857700857701\n"
     ]
    },
    {
     "data": {
      "text/html": [
       "<div>\n",
       "<style scoped>\n",
       "    .dataframe tbody tr th:only-of-type {\n",
       "        vertical-align: middle;\n",
       "    }\n",
       "\n",
       "    .dataframe tbody tr th {\n",
       "        vertical-align: top;\n",
       "    }\n",
       "\n",
       "    .dataframe thead th {\n",
       "        text-align: right;\n",
       "    }\n",
       "</style>\n",
       "<table border=\"1\" class=\"dataframe\">\n",
       "  <thead>\n",
       "    <tr style=\"text-align: right;\">\n",
       "      <th></th>\n",
       "      <th>returns</th>\n",
       "      <th>returns_rank</th>\n",
       "      <th>pe</th>\n",
       "      <th>pe_rank</th>\n",
       "    </tr>\n",
       "  </thead>\n",
       "  <tbody>\n",
       "    <tr>\n",
       "      <th>0</th>\n",
       "      <td>-0.010856</td>\n",
       "      <td>842.0</td>\n",
       "      <td>16.255863</td>\n",
       "      <td>786.0</td>\n",
       "    </tr>\n",
       "    <tr>\n",
       "      <th>1</th>\n",
       "      <td>0.009973</td>\n",
       "      <td>158.0</td>\n",
       "      <td>22.837974</td>\n",
       "      <td>283.0</td>\n",
       "    </tr>\n",
       "    <tr>\n",
       "      <th>2</th>\n",
       "      <td>0.002830</td>\n",
       "      <td>366.0</td>\n",
       "      <td>23.590753</td>\n",
       "      <td>230.0</td>\n",
       "    </tr>\n",
       "    <tr>\n",
       "      <th>3</th>\n",
       "      <td>-0.015063</td>\n",
       "      <td>928.0</td>\n",
       "      <td>15.003096</td>\n",
       "      <td>857.0</td>\n",
       "    </tr>\n",
       "    <tr>\n",
       "      <th>4</th>\n",
       "      <td>-0.005786</td>\n",
       "      <td>713.0</td>\n",
       "      <td>22.374492</td>\n",
       "      <td>324.0</td>\n",
       "    </tr>\n",
       "    <tr>\n",
       "      <th>...</th>\n",
       "      <td>...</td>\n",
       "      <td>...</td>\n",
       "      <td>...</td>\n",
       "      <td>...</td>\n",
       "    </tr>\n",
       "    <tr>\n",
       "      <th>995</th>\n",
       "      <td>0.006348</td>\n",
       "      <td>257.0</td>\n",
       "      <td>24.228506</td>\n",
       "      <td>190.0</td>\n",
       "    </tr>\n",
       "    <tr>\n",
       "      <th>996</th>\n",
       "      <td>0.010699</td>\n",
       "      <td>134.0</td>\n",
       "      <td>14.400387</td>\n",
       "      <td>885.0</td>\n",
       "    </tr>\n",
       "    <tr>\n",
       "      <th>997</th>\n",
       "      <td>-0.009093</td>\n",
       "      <td>808.0</td>\n",
       "      <td>18.203516</td>\n",
       "      <td>653.0</td>\n",
       "    </tr>\n",
       "    <tr>\n",
       "      <th>998</th>\n",
       "      <td>0.004703</td>\n",
       "      <td>300.0</td>\n",
       "      <td>11.951525</td>\n",
       "      <td>948.0</td>\n",
       "    </tr>\n",
       "    <tr>\n",
       "      <th>999</th>\n",
       "      <td>-0.011114</td>\n",
       "      <td>852.0</td>\n",
       "      <td>20.067850</td>\n",
       "      <td>510.0</td>\n",
       "    </tr>\n",
       "  </tbody>\n",
       "</table>\n",
       "<p>1000 rows × 4 columns</p>\n",
       "</div>"
      ],
      "text/plain": [
       "      returns  returns_rank         pe  pe_rank\n",
       "0   -0.010856         842.0  16.255863    786.0\n",
       "1    0.009973         158.0  22.837974    283.0\n",
       "2    0.002830         366.0  23.590753    230.0\n",
       "3   -0.015063         928.0  15.003096    857.0\n",
       "4   -0.005786         713.0  22.374492    324.0\n",
       "..        ...           ...        ...      ...\n",
       "995  0.006348         257.0  24.228506    190.0\n",
       "996  0.010699         134.0  14.400387    885.0\n",
       "997 -0.009093         808.0  18.203516    653.0\n",
       "998  0.004703         300.0  11.951525    948.0\n",
       "999 -0.011114         852.0  20.067850    510.0\n",
       "\n",
       "[1000 rows x 4 columns]"
      ]
     },
     "execution_count": 2,
     "metadata": {},
     "output_type": "execute_result"
    }
   ],
   "source": [
    "# 声称股票收益率序列\n",
    "np.random.seed(123)\n",
    "returns = np.random.normal(0, 0.01, 1000)\n",
    "\n",
    "# 生成PE序列\n",
    "pe = np.random.normal(20, 5, 1000)\n",
    "\n",
    "# 使用 Pandas 实现计算 ===============================\n",
    "# 计算因子排名和股票收益率排名\n",
    "pe_rank = pd.Series(pe).rank()\n",
    "returns_rank = pd.Series(returns).rank()\n",
    "\n",
    "# 计算IC值\n",
    "ic = pe_rank.corr(returns_rank)\n",
    "print(\"IC值：\", ic)\n",
    "\n",
    "# 使用 Numpy 实现计算 ===============================\n",
    "# 计算因子排名和股票收益率排名\n",
    "pe_rank = np.argsort(np.argsort(-pe))+1\n",
    "returns_rank = np.argsort(np.argsort(-returns))+1\n",
    "\n",
    "# 计算IC值\n",
    "ic = np.corrcoef(pe_rank, returns_rank)[0,1]\n",
    "print(\"IC值：\", ic)\n",
    "\n",
    "pd.DataFrame(columns=['returns','returns_rank','pe','pe_rank'], data=np.vstack((returns, returns_rank, pe, pe_rank)).T)"
   ]
  },
  {
   "cell_type": "code",
   "execution_count": 18,
   "id": "3b2cfdfb",
   "metadata": {},
   "outputs": [],
   "source": [
    "from empyrical import sortino_ratio, max_drawdown, calmar_ratio"
   ]
  },
  {
   "cell_type": "code",
   "execution_count": 15,
   "id": "546ed493",
   "metadata": {},
   "outputs": [
    {
     "data": {
      "text/plain": [
       "array([-0.66688487,  0.16801453,  0.75970003,  1.24782735,  0.15397871,\n",
       "       -0.51069744, -0.46916046,  2.35235792, -0.75570282,  0.37956859,\n",
       "        1.12869714,  0.04829969, -0.34286981,  0.73947119, -0.13929717,\n",
       "       -0.14064243, -0.22004157,  0.07516163, -0.69068954,  1.14224889,\n",
       "       -0.26933981,  0.29340958,  0.89560962, -0.06871506, -0.27025755,\n",
       "        1.71100805, -0.7904197 , -0.45851938,  1.36609314,  0.3851449 ,\n",
       "        0.30635225, -0.38036178, -0.34668639,  0.6419897 ,  0.01995431,\n",
       "       -0.23052271,  0.66406177,  0.15133239,  0.60140704, -0.53523371,\n",
       "        1.21043728, -0.29892499, -0.45156306, -0.19703162,  1.25269799,\n",
       "       -0.09919852, -0.69299273,  1.3730306 , -0.50995102,  0.70975091,\n",
       "       -0.09384399,  0.02710357,  0.24708403, -0.43442926,  1.80048101,\n",
       "       -0.63533675,  1.15597336,  1.17413493, -0.71002037,  2.05671142,\n",
       "       -0.66477464,  1.75326087, -0.11792317,  0.04602543, -0.65316136,\n",
       "        0.86301639, -0.38241303,  1.00825009, -0.21754608,  0.02995783,\n",
       "       -0.30890547, -0.19375712,  0.07136581,  0.34540752, -0.2532773 ,\n",
       "       -0.14483376,  0.28196683,  1.13040264, -0.56670619,  0.85440039,\n",
       "       -0.12619455,  0.40009528, -0.57375374,  0.98610312, -0.41398988,\n",
       "        0.43810951, -0.20866294, -0.16673337,  0.43039379,  0.15524237,\n",
       "        0.43095923, -0.57501204,  0.8828334 , -0.22332927, -0.52980645,\n",
       "        1.00769564, -0.1993312 ,  2.78139599, -0.62093936])"
      ]
     },
     "execution_count": 15,
     "metadata": {},
     "output_type": "execute_result"
    }
   ],
   "source": [
    "ret = np.diff(data) / data[:-1]\n",
    "ret"
   ]
  },
  {
   "cell_type": "code",
   "execution_count": 17,
   "id": "3a6e1930",
   "metadata": {},
   "outputs": [
    {
     "data": {
      "text/plain": [
       "-0.8865163316678304"
      ]
     },
     "execution_count": 17,
     "metadata": {},
     "output_type": "execute_result"
    }
   ],
   "source": [
    "max_drawdown(ret)"
   ]
  },
  {
   "cell_type": "code",
   "execution_count": 20,
   "id": "41ed7ff0",
   "metadata": {},
   "outputs": [
    {
     "data": {
      "text/plain": [
       "-0.335530194652632"
      ]
     },
     "execution_count": 20,
     "metadata": {},
     "output_type": "execute_result"
    }
   ],
   "source": [
    "calmar_ratio(ret, period='daily', annualization=None)"
   ]
  },
  {
   "cell_type": "code",
   "execution_count": 22,
   "id": "fa324b48",
   "metadata": {},
   "outputs": [
    {
     "name": "stdout",
     "output_type": "stream",
     "text": [
      "-2.7813959911904576\n",
      "年化Calmar比率： 3477.6726189447218\n"
     ]
    }
   ],
   "source": [
    "def calculate_annualized_calmar_ratio(daily_returns):\n",
    "    cumulative_return = (1 + sum(daily_returns)) ** (252 / len(daily_returns)) - 1  # 假设一年有252个交易日\n",
    "    max_drawdown = max_drawdown_calculation(daily_returns)\n",
    "    print(max_drawdown)\n",
    "    calmar_ratio = cumulative_return / abs(max_drawdown)\n",
    "    annualized_calmar_ratio = calmar_ratio * (12 ** 0.5)  # 年化调整因子，假设每年有12个月\n",
    "    return annualized_calmar_ratio\n",
    "\n",
    "def max_drawdown_calculation(daily_returns):\n",
    "    max_drawdown = 0\n",
    "    peak = 0\n",
    "    for daily_return in daily_returns:\n",
    "        peak = max(peak, peak + daily_return)\n",
    "        drawdown = peak - (peak + daily_return)\n",
    "        max_drawdown = min(max_drawdown, drawdown)\n",
    "    return max_drawdown\n",
    "\n",
    "# 示例数据，每日收益率列表\n",
    "ret\n",
    "\n",
    "# 计算年化Calmar比率\n",
    "annualized_calmar_ratio = calculate_annualized_calmar_ratio(ret)\n",
    "\n",
    "print(\"年化Calmar比率：\", annualized_calmar_ratio)"
   ]
  },
  {
   "cell_type": "code",
   "execution_count": null,
   "id": "667d6bea",
   "metadata": {},
   "outputs": [],
   "source": []
  }
 ],
 "metadata": {
  "kernelspec": {
   "display_name": "Python 3 (ipykernel)",
   "language": "python",
   "name": "python3"
  },
  "language_info": {
   "codemirror_mode": {
    "name": "ipython",
    "version": 3
   },
   "file_extension": ".py",
   "mimetype": "text/x-python",
   "name": "python",
   "nbconvert_exporter": "python",
   "pygments_lexer": "ipython3",
   "version": "3.9.13"
  }
 },
 "nbformat": 4,
 "nbformat_minor": 5
}
